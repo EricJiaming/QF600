{
 "cells": [
  {
   "cell_type": "code",
   "execution_count": 1,
   "id": "89f77487",
   "metadata": {},
   "outputs": [],
   "source": [
    "import numpy as np\n",
    "\n",
    "import pandas as pd\n",
    "\n",
    "import matplotlib.pyplot as plt"
   ]
  },
  {
   "cell_type": "code",
   "execution_count": 2,
   "id": "05528b11",
   "metadata": {},
   "outputs": [],
   "source": [
    "Rf = 1.0303\n",
    "δ = 0.99\n",
    "γ = 1\n",
    "λ = 2"
   ]
  },
  {
   "cell_type": "markdown",
   "id": "b2ec49f6",
   "metadata": {},
   "source": [
    "# 1. Simulate the distribution for consumption growth with (at least) 104 random draws for ε. "
   ]
  },
  {
   "cell_type": "code",
   "execution_count": 3,
   "id": "74d6999c",
   "metadata": {},
   "outputs": [
    {
     "data": {
      "text/html": [
       "<div>\n",
       "<style scoped>\n",
       "    .dataframe tbody tr th:only-of-type {\n",
       "        vertical-align: middle;\n",
       "    }\n",
       "\n",
       "    .dataframe tbody tr th {\n",
       "        vertical-align: top;\n",
       "    }\n",
       "\n",
       "    .dataframe thead th {\n",
       "        text-align: right;\n",
       "    }\n",
       "</style>\n",
       "<table border=\"1\" class=\"dataframe\">\n",
       "  <thead>\n",
       "    <tr style=\"text-align: right;\">\n",
       "      <th></th>\n",
       "      <th>Growth</th>\n",
       "    </tr>\n",
       "  </thead>\n",
       "  <tbody>\n",
       "    <tr>\n",
       "      <th>0</th>\n",
       "      <td>1.045231</td>\n",
       "    </tr>\n",
       "    <tr>\n",
       "      <th>1</th>\n",
       "      <td>1.012611</td>\n",
       "    </tr>\n",
       "    <tr>\n",
       "      <th>2</th>\n",
       "      <td>1.027333</td>\n",
       "    </tr>\n",
       "    <tr>\n",
       "      <th>3</th>\n",
       "      <td>1.013784</td>\n",
       "    </tr>\n",
       "    <tr>\n",
       "      <th>4</th>\n",
       "      <td>0.982524</td>\n",
       "    </tr>\n",
       "    <tr>\n",
       "      <th>...</th>\n",
       "      <td>...</td>\n",
       "    </tr>\n",
       "    <tr>\n",
       "      <th>9995</th>\n",
       "      <td>0.999042</td>\n",
       "    </tr>\n",
       "    <tr>\n",
       "      <th>9996</th>\n",
       "      <td>1.022711</td>\n",
       "    </tr>\n",
       "    <tr>\n",
       "      <th>9997</th>\n",
       "      <td>1.024757</td>\n",
       "    </tr>\n",
       "    <tr>\n",
       "      <th>9998</th>\n",
       "      <td>1.010057</td>\n",
       "    </tr>\n",
       "    <tr>\n",
       "      <th>9999</th>\n",
       "      <td>1.048848</td>\n",
       "    </tr>\n",
       "  </tbody>\n",
       "</table>\n",
       "<p>10000 rows × 1 columns</p>\n",
       "</div>"
      ],
      "text/plain": [
       "        Growth\n",
       "0     1.045231\n",
       "1     1.012611\n",
       "2     1.027333\n",
       "3     1.013784\n",
       "4     0.982524\n",
       "...        ...\n",
       "9995  0.999042\n",
       "9996  1.022711\n",
       "9997  1.024757\n",
       "9998  1.010057\n",
       "9999  1.048848\n",
       "\n",
       "[10000 rows x 1 columns]"
      ]
     },
     "execution_count": 3,
     "metadata": {},
     "output_type": "execute_result"
    }
   ],
   "source": [
    "number = 10**4\n",
    "\n",
    "consumption_growth = np.zeros(number)\n",
    "\n",
    "for i in range(number):\n",
    "    epsilon = np.random.standard_normal()\n",
    "    \n",
    "    consumption_growth[i] = np.exp(0.02 + 0.02*epsilon)\n",
    "\n",
    "consumption_growth = pd.DataFrame(consumption_growth, columns = ['Growth'])\n",
    "\n",
    "consumption_growth"
   ]
  },
  {
   "cell_type": "code",
   "execution_count": 4,
   "id": "798f15d6",
   "metadata": {
    "scrolled": true
   },
   "outputs": [
    {
     "data": {
      "text/plain": [
       "array([ 0. ,  0.1,  0.2,  0.3,  0.4,  0.5,  0.6,  0.7,  0.8,  0.9,  1. ,\n",
       "        1.1,  1.2,  1.3,  1.4,  1.5,  1.6,  1.7,  1.8,  1.9,  2. ,  2.1,\n",
       "        2.2,  2.3,  2.4,  2.5,  2.6,  2.7,  2.8,  2.9,  3. ,  3.1,  3.2,\n",
       "        3.3,  3.4,  3.5,  3.6,  3.7,  3.8,  3.9,  4. ,  4.1,  4.2,  4.3,\n",
       "        4.4,  4.5,  4.6,  4.7,  4.8,  4.9,  5. ,  5.1,  5.2,  5.3,  5.4,\n",
       "        5.5,  5.6,  5.7,  5.8,  5.9,  6. ,  6.1,  6.2,  6.3,  6.4,  6.5,\n",
       "        6.6,  6.7,  6.8,  6.9,  7. ,  7.1,  7.2,  7.3,  7.4,  7.5,  7.6,\n",
       "        7.7,  7.8,  7.9,  8. ,  8.1,  8.2,  8.3,  8.4,  8.5,  8.6,  8.7,\n",
       "        8.8,  8.9,  9. ,  9.1,  9.2,  9.3,  9.4,  9.5,  9.6,  9.7,  9.8,\n",
       "        9.9, 10. ])"
      ]
     },
     "execution_count": 4,
     "metadata": {},
     "output_type": "execute_result"
    }
   ],
   "source": [
    "b0 = np.arange(0,10.1,0.1)\n",
    "\n",
    "b0"
   ]
  },
  {
   "cell_type": "markdown",
   "id": "a165cf2c",
   "metadata": {},
   "source": [
    "# 2. Calculate the equilibrium values of x for b0 in the range from 0 to 10, in increments of 0.1 (or less), using bisection search:"
   ]
  },
  {
   "cell_type": "markdown",
   "id": "78bd7850",
   "metadata": {},
   "source": [
    "# 用error的正负求error等于0的根"
   ]
  },
  {
   "cell_type": "code",
   "execution_count": 5,
   "id": "a88b979c",
   "metadata": {},
   "outputs": [],
   "source": [
    "def growth_calculation(consumption_growth,x):\n",
    "    consumption_growth = x*consumption_growth \n",
    "    consumption_growth = consumption_growth['Growth'].apply(lambda x: x-1.0303 if x >= 1.0303 else 2*( x-1.0303))\n",
    "    return consumption_growth"
   ]
  },
  {
   "cell_type": "code",
   "execution_count": 6,
   "id": "56fbb30d",
   "metadata": {},
   "outputs": [],
   "source": [
    "def error_calculation(b0,consumption_growth, x):\n",
    "    return δ*b0*np.mean(consumption_growth) + δ*x -1"
   ]
  },
  {
   "cell_type": "code",
   "execution_count": 9,
   "id": "bb154279",
   "metadata": {},
   "outputs": [],
   "source": [
    "def bisection_search(b0, consumption_growth):\n",
    "    list_x = []\n",
    "    \n",
    "    for b0 in b0:\n",
    "        flag = True\n",
    "        x1 = 1\n",
    "        x2 = 1.1 \n",
    "        \n",
    "        while flag:\n",
    "            \n",
    "            x = (x1+x2)/2\n",
    "            \n",
    "            if float(error_calculation(b0, growth_calculation(consumption_growth, x), x)) < 0: \n",
    "                x1 = x\n",
    "                x = 0.5*(x1+x2)\n",
    "                \n",
    "            elif float(error_calculation(b0, growth_calculation(consumption_growth, x), x)) > 0:\n",
    "                x2 = x\n",
    "                x = 0.5*(x1+x2)\n",
    "            flag = abs(float(error_calculation(b0, growth_calculation(consumption_growth, x), x))) > 10**-5 \n",
    "            \n",
    "        list_x.append(x)\n",
    "        \n",
    "    return list_x      "
   ]
  },
  {
   "cell_type": "code",
   "execution_count": 10,
   "id": "77e36757",
   "metadata": {
    "scrolled": false
   },
   "outputs": [
    {
     "data": {
      "text/html": [
       "<div>\n",
       "<style scoped>\n",
       "    .dataframe tbody tr th:only-of-type {\n",
       "        vertical-align: middle;\n",
       "    }\n",
       "\n",
       "    .dataframe tbody tr th {\n",
       "        vertical-align: top;\n",
       "    }\n",
       "\n",
       "    .dataframe thead th {\n",
       "        text-align: right;\n",
       "    }\n",
       "</style>\n",
       "<table border=\"1\" class=\"dataframe\">\n",
       "  <thead>\n",
       "    <tr style=\"text-align: right;\">\n",
       "      <th></th>\n",
       "      <th>x_values</th>\n",
       "    </tr>\n",
       "  </thead>\n",
       "  <tbody>\n",
       "    <tr>\n",
       "      <th>0</th>\n",
       "      <td>1.010107</td>\n",
       "    </tr>\n",
       "    <tr>\n",
       "      <th>1</th>\n",
       "      <td>1.010693</td>\n",
       "    </tr>\n",
       "    <tr>\n",
       "      <th>2</th>\n",
       "      <td>1.011133</td>\n",
       "    </tr>\n",
       "    <tr>\n",
       "      <th>3</th>\n",
       "      <td>1.011499</td>\n",
       "    </tr>\n",
       "    <tr>\n",
       "      <th>4</th>\n",
       "      <td>1.011792</td>\n",
       "    </tr>\n",
       "    <tr>\n",
       "      <th>...</th>\n",
       "      <td>...</td>\n",
       "    </tr>\n",
       "    <tr>\n",
       "      <th>96</th>\n",
       "      <td>1.014410</td>\n",
       "    </tr>\n",
       "    <tr>\n",
       "      <th>97</th>\n",
       "      <td>1.014413</td>\n",
       "    </tr>\n",
       "    <tr>\n",
       "      <th>98</th>\n",
       "      <td>1.014417</td>\n",
       "    </tr>\n",
       "    <tr>\n",
       "      <th>99</th>\n",
       "      <td>1.014420</td>\n",
       "    </tr>\n",
       "    <tr>\n",
       "      <th>100</th>\n",
       "      <td>1.014423</td>\n",
       "    </tr>\n",
       "  </tbody>\n",
       "</table>\n",
       "<p>101 rows × 1 columns</p>\n",
       "</div>"
      ],
      "text/plain": [
       "     x_values\n",
       "0    1.010107\n",
       "1    1.010693\n",
       "2    1.011133\n",
       "3    1.011499\n",
       "4    1.011792\n",
       "..        ...\n",
       "96   1.014410\n",
       "97   1.014413\n",
       "98   1.014417\n",
       "99   1.014420\n",
       "100  1.014423\n",
       "\n",
       "[101 rows x 1 columns]"
      ]
     },
     "execution_count": 10,
     "metadata": {},
     "output_type": "execute_result"
    }
   ],
   "source": [
    "x_values = bisection_search(b0,consumption_growth)\n",
    "\n",
    "x_values = pd.DataFrame(x_values, columns = ['x_values'])\n",
    "\n",
    "x_values"
   ]
  },
  {
   "cell_type": "markdown",
   "id": "deb7e85a",
   "metadata": {},
   "source": [
    "# 3. Use the equilibrium value of x to calculate the price-dividend ratio for the market portfolio:"
   ]
  },
  {
   "cell_type": "code",
   "execution_count": 16,
   "id": "ab73b57c",
   "metadata": {
    "scrolled": true
   },
   "outputs": [
    {
     "data": {
      "text/plain": [
       "0      98.937198\n",
       "1      92.879819\n",
       "2      88.658009\n",
       "3      85.511482\n",
       "4      83.167513\n",
       "         ...    \n",
       "96     66.699913\n",
       "97     66.682947\n",
       "98     66.669379\n",
       "99     66.655818\n",
       "100    66.642262\n",
       "Name: x_values, Length: 101, dtype: float64"
      ]
     },
     "execution_count": 16,
     "metadata": {},
     "output_type": "execute_result"
    }
   ],
   "source": [
    "price_dividend_ratio = 1/(x_values['x_values'] - 1)\n",
    "price_dividend_ratio"
   ]
  },
  {
   "cell_type": "markdown",
   "id": "041ca36c",
   "metadata": {},
   "source": [
    "# 4. Plot the price-dividend ratio (on the vertical axis) vs b0."
   ]
  },
  {
   "cell_type": "code",
   "execution_count": 32,
   "id": "04ba6d4a",
   "metadata": {
    "scrolled": false
   },
   "outputs": [
    {
     "data": {
      "image/png": "[encoded data removed]",
      "text/plain": [
       "<Figure size 1080x432 with 1 Axes>"
      ]
     },
     "metadata": {
      "needs_background": "light"
     },
     "output_type": "display_data"
    }
   ],
   "source": [
    "plt.figure(figsize = (15,6))\n",
    "plt.xlabel('Scale Factor b0', fontsize = 15)\n",
    "plt.ylabel('Price Dividend Ratio', fontsize = 15)\n",
    "plt.title('Price Dividend Ratio Over Different b0', fontsize = 25)\n",
    "plt.plot(b0, price_dividend_ratio, color = 'k')\n",
    "plt.show()"
   ]
  },
  {
   "cell_type": "markdown",
   "id": "2872c2ae",
   "metadata": {},
   "source": [
    "# 5. Use the equilibrium value of x to calculate the expected market return "
   ]
  },
  {
   "cell_type": "code",
   "execution_count": 30,
   "id": "415bf96f",
   "metadata": {
    "scrolled": false
   },
   "outputs": [
    {
     "data": {
      "text/plain": [
       "array([1.03066314, 1.03133574, 1.03185886, 1.03228235, 1.03261865,\n",
       "       1.03290512, 1.03314178, 1.03334106, 1.03352167, 1.03367736,\n",
       "       1.03381437, 1.03393892, 1.0340448 , 1.03414444, 1.03423163,\n",
       "       1.03431259, 1.03438732, 1.0344496 , 1.03451187, 1.03457104,\n",
       "       1.03462397, 1.0346738 , 1.03471739, 1.03476098, 1.03480458,\n",
       "       1.03484194, 1.0348762 , 1.03491045, 1.03494159, 1.03496961,\n",
       "       1.03499764, 1.03502566, 1.03505057, 1.03507237, 1.03509728,\n",
       "       1.03511908, 1.03513776, 1.03515956, 1.03517824, 1.03519692,\n",
       "       1.03521249, 1.03523118, 1.03524675, 1.03526231, 1.03527477,\n",
       "       1.03529034, 1.0353028 , 1.03531525, 1.03532926, 1.03534016,\n",
       "       1.03535262, 1.03536507, 1.03537441, 1.03538687, 1.03539621,\n",
       "       1.03540555, 1.03541489, 1.03542424, 1.03543358, 1.03544292,\n",
       "       1.03545226, 1.03546005, 1.03546783, 1.03547561, 1.0354834 ,\n",
       "       1.03548963, 1.03549741, 1.0355052 , 1.03551142, 1.03551765,\n",
       "       1.03552388, 1.03553011, 1.03553633, 1.03554256, 1.03554879,\n",
       "       1.03555346, 1.03555969, 1.03556436, 1.03557059, 1.03557526,\n",
       "       1.03557993, 1.0355846 , 1.03559083, 1.0355955 , 1.03560017,\n",
       "       1.03560328, 1.03560795, 1.03561262, 1.0356173 , 1.03562041,\n",
       "       1.03562508, 1.03562897, 1.03563286, 1.03563598, 1.03564065,\n",
       "       1.03564376, 1.03564766, 1.03565155, 1.03565466, 1.03565778,\n",
       "       1.03566089])"
      ]
     },
     "execution_count": 30,
     "metadata": {},
     "output_type": "execute_result"
    }
   ],
   "source": [
    "x_g = np.dot(x_values, consumption_growth.T)\n",
    "\n",
    "Expected_Market_Return = np.mean(x_g, axis = 1)\n",
    "\n",
    "Expected_Market_Return"
   ]
  },
  {
   "cell_type": "markdown",
   "id": "7fd63146",
   "metadata": {},
   "source": [
    "# 6. Plot the equity premium (on the vertical axis) vs b0. "
   ]
  },
  {
   "cell_type": "code",
   "execution_count": 33,
   "id": "e3a66931",
   "metadata": {
    "scrolled": false
   },
   "outputs": [
    {
     "data": {
      "image/png": "[encoded data removed]",
      "text/plain": [
       "<Figure size 1080x432 with 1 Axes>"
      ]
     },
     "metadata": {
      "needs_background": "light"
     },
     "output_type": "display_data"
    }
   ],
   "source": [
    "plt.figure(figsize = (15,6))\n",
    "\n",
    "plt.xlabel('Scale Factor b0', fontsize = 15)\n",
    "\n",
    "plt.ylabel('Equity Premium',fontsize = 15)\n",
    "\n",
    "plt.title('Equity Premium Over Diffferent b0', fontsize = 20)\n",
    "\n",
    "plt.plot(b0, Expected_Market_Return - Rf, color = 'k')\n",
    "\n",
    "plt.show()"
   ]
  },
  {
   "cell_type": "markdown",
   "id": "5c9d5612",
   "metadata": {},
   "source": [
    "# 7.Briefly explain the economic significance of the investor's utility function for recent financial gain or loss [ν(R)], as well as the economic significance of b0 and λ"
   ]
  },
  {
   "cell_type": "markdown",
   "id": "3e8e8580",
   "metadata": {},
   "source": [
    "## Utility Function with recent financial gain or loss is also called Quasi-behavioral model by incorporating the prospect theory in the utility function. By short,  if two choices are made for the investors, investors will choose the option with more potential gains based on 'loss aversion'. "
   ]
  },
  {
   "cell_type": "markdown",
   "id": "b9ce8a58",
   "metadata": {},
   "source": [
    "## b0 measures the extent of emphasis a investor put on the financial gain or loss for  the whole utility funciton. "
   ]
  },
  {
   "cell_type": "markdown",
   "id": "c029123c",
   "metadata": {},
   "source": [
    "## λ measures the degree of loss aversion for an investor when he faces loss.  If λ >1, then the investor will be more sensitive to loss than gains comparing to the reference level. "
   ]
  }
 ],
 "metadata": {
  "kernelspec": {
   "display_name": "Python 3 (ipykernel)",
   "language": "python",
   "name": "python3"
  },
  "language_info": {
   "codemirror_mode": {
    "name": "ipython",
    "version": 3
   },
   "file_extension": ".py",
   "mimetype": "text/x-python",
   "name": "python",
   "nbconvert_exporter": "python",
   "pygments_lexer": "ipython3",
   "version": "3.9.12"
  }
 },
 "nbformat": 4,
 "nbformat_minor": 5
}
