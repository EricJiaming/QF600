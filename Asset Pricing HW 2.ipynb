{
 "cells": [
  {
   "cell_type": "markdown",
   "id": "3046a8b6",
   "metadata": {},
   "source": [
    "# 1.1 Create a table showing the intercept and slope coefficients for the ten industry portfolios."
   ]
  },
  {
   "cell_type": "code",
   "execution_count": 1,
   "id": "4358fcde",
   "metadata": {},
   "outputs": [],
   "source": [
    "from IPython.display import Image"
   ]
  },
  {
   "cell_type": "code",
   "execution_count": 2,
   "id": "a5cb00f5",
   "metadata": {},
   "outputs": [
    {
     "ename": "FileNotFoundError",
     "evalue": "[Errno 2] No such file or directory: '1.png'",
     "output_type": "error",
     "traceback": [
      "\u001b[0;31m---------------------------------------------------------------------------\u001b[0m",
      "\u001b[0;31mFileNotFoundError\u001b[0m                         Traceback (most recent call last)",
      "Input \u001b[0;32mIn [2]\u001b[0m, in \u001b[0;36m<cell line: 1>\u001b[0;34m()\u001b[0m\n\u001b[0;32m----> 1\u001b[0m \u001b[43mImage\u001b[49m\u001b[43m(\u001b[49m\u001b[43mfilename\u001b[49m\u001b[43m \u001b[49m\u001b[38;5;241;43m=\u001b[39;49m\u001b[43m \u001b[49m\u001b[38;5;124;43m'\u001b[39;49m\u001b[38;5;124;43m1.png\u001b[39;49m\u001b[38;5;124;43m'\u001b[39;49m\u001b[43m)\u001b[49m\n",
      "File \u001b[0;32m~/opt/anaconda3/lib/python3.9/site-packages/IPython/core/display.py:957\u001b[0m, in \u001b[0;36mImage.__init__\u001b[0;34m(self, data, url, filename, format, embed, width, height, retina, unconfined, metadata, alt)\u001b[0m\n\u001b[1;32m    955\u001b[0m \u001b[38;5;28mself\u001b[39m\u001b[38;5;241m.\u001b[39munconfined \u001b[38;5;241m=\u001b[39m unconfined\n\u001b[1;32m    956\u001b[0m \u001b[38;5;28mself\u001b[39m\u001b[38;5;241m.\u001b[39malt \u001b[38;5;241m=\u001b[39m alt\n\u001b[0;32m--> 957\u001b[0m \u001b[38;5;28;43msuper\u001b[39;49m\u001b[43m(\u001b[49m\u001b[43mImage\u001b[49m\u001b[43m,\u001b[49m\u001b[43m \u001b[49m\u001b[38;5;28;43mself\u001b[39;49m\u001b[43m)\u001b[49m\u001b[38;5;241;43m.\u001b[39;49m\u001b[38;5;21;43m__init__\u001b[39;49m\u001b[43m(\u001b[49m\u001b[43mdata\u001b[49m\u001b[38;5;241;43m=\u001b[39;49m\u001b[43mdata\u001b[49m\u001b[43m,\u001b[49m\u001b[43m \u001b[49m\u001b[43murl\u001b[49m\u001b[38;5;241;43m=\u001b[39;49m\u001b[43murl\u001b[49m\u001b[43m,\u001b[49m\u001b[43m \u001b[49m\u001b[43mfilename\u001b[49m\u001b[38;5;241;43m=\u001b[39;49m\u001b[43mfilename\u001b[49m\u001b[43m,\u001b[49m\n\u001b[1;32m    958\u001b[0m \u001b[43m        \u001b[49m\u001b[43mmetadata\u001b[49m\u001b[38;5;241;43m=\u001b[39;49m\u001b[43mmetadata\u001b[49m\u001b[43m)\u001b[49m\n\u001b[1;32m    960\u001b[0m \u001b[38;5;28;01mif\u001b[39;00m \u001b[38;5;28mself\u001b[39m\u001b[38;5;241m.\u001b[39mwidth \u001b[38;5;129;01mis\u001b[39;00m \u001b[38;5;28;01mNone\u001b[39;00m \u001b[38;5;129;01mand\u001b[39;00m \u001b[38;5;28mself\u001b[39m\u001b[38;5;241m.\u001b[39mmetadata\u001b[38;5;241m.\u001b[39mget(\u001b[38;5;124m'\u001b[39m\u001b[38;5;124mwidth\u001b[39m\u001b[38;5;124m'\u001b[39m, {}):\n\u001b[1;32m    961\u001b[0m     \u001b[38;5;28mself\u001b[39m\u001b[38;5;241m.\u001b[39mwidth \u001b[38;5;241m=\u001b[39m metadata[\u001b[38;5;124m'\u001b[39m\u001b[38;5;124mwidth\u001b[39m\u001b[38;5;124m'\u001b[39m]\n",
      "File \u001b[0;32m~/opt/anaconda3/lib/python3.9/site-packages/IPython/core/display.py:327\u001b[0m, in \u001b[0;36mDisplayObject.__init__\u001b[0;34m(self, data, url, filename, metadata)\u001b[0m\n\u001b[1;32m    324\u001b[0m \u001b[38;5;28;01melif\u001b[39;00m \u001b[38;5;28mself\u001b[39m\u001b[38;5;241m.\u001b[39mmetadata \u001b[38;5;129;01mis\u001b[39;00m \u001b[38;5;28;01mNone\u001b[39;00m:\n\u001b[1;32m    325\u001b[0m     \u001b[38;5;28mself\u001b[39m\u001b[38;5;241m.\u001b[39mmetadata \u001b[38;5;241m=\u001b[39m {}\n\u001b[0;32m--> 327\u001b[0m \u001b[38;5;28;43mself\u001b[39;49m\u001b[38;5;241;43m.\u001b[39;49m\u001b[43mreload\u001b[49m\u001b[43m(\u001b[49m\u001b[43m)\u001b[49m\n\u001b[1;32m    328\u001b[0m \u001b[38;5;28mself\u001b[39m\u001b[38;5;241m.\u001b[39m_check_data()\n",
      "File \u001b[0;32m~/opt/anaconda3/lib/python3.9/site-packages/IPython/core/display.py:992\u001b[0m, in \u001b[0;36mImage.reload\u001b[0;34m(self)\u001b[0m\n\u001b[1;32m    990\u001b[0m \u001b[38;5;124;03m\"\"\"Reload the raw data from file or URL.\"\"\"\u001b[39;00m\n\u001b[1;32m    991\u001b[0m \u001b[38;5;28;01mif\u001b[39;00m \u001b[38;5;28mself\u001b[39m\u001b[38;5;241m.\u001b[39membed:\n\u001b[0;32m--> 992\u001b[0m     \u001b[38;5;28;43msuper\u001b[39;49m\u001b[43m(\u001b[49m\u001b[43mImage\u001b[49m\u001b[43m,\u001b[49m\u001b[38;5;28;43mself\u001b[39;49m\u001b[43m)\u001b[49m\u001b[38;5;241;43m.\u001b[39;49m\u001b[43mreload\u001b[49m\u001b[43m(\u001b[49m\u001b[43m)\u001b[49m\n\u001b[1;32m    993\u001b[0m     \u001b[38;5;28;01mif\u001b[39;00m \u001b[38;5;28mself\u001b[39m\u001b[38;5;241m.\u001b[39mretina:\n\u001b[1;32m    994\u001b[0m         \u001b[38;5;28mself\u001b[39m\u001b[38;5;241m.\u001b[39m_retina_shape()\n",
      "File \u001b[0;32m~/opt/anaconda3/lib/python3.9/site-packages/IPython/core/display.py:353\u001b[0m, in \u001b[0;36mDisplayObject.reload\u001b[0;34m(self)\u001b[0m\n\u001b[1;32m    351\u001b[0m \u001b[38;5;28;01mif\u001b[39;00m \u001b[38;5;28mself\u001b[39m\u001b[38;5;241m.\u001b[39mfilename \u001b[38;5;129;01mis\u001b[39;00m \u001b[38;5;129;01mnot\u001b[39;00m \u001b[38;5;28;01mNone\u001b[39;00m:\n\u001b[1;32m    352\u001b[0m     encoding \u001b[38;5;241m=\u001b[39m \u001b[38;5;28;01mNone\u001b[39;00m \u001b[38;5;28;01mif\u001b[39;00m \u001b[38;5;124m\"\u001b[39m\u001b[38;5;124mb\u001b[39m\u001b[38;5;124m\"\u001b[39m \u001b[38;5;129;01min\u001b[39;00m \u001b[38;5;28mself\u001b[39m\u001b[38;5;241m.\u001b[39m_read_flags \u001b[38;5;28;01melse\u001b[39;00m \u001b[38;5;124m\"\u001b[39m\u001b[38;5;124mutf-8\u001b[39m\u001b[38;5;124m\"\u001b[39m\n\u001b[0;32m--> 353\u001b[0m     \u001b[38;5;28;01mwith\u001b[39;00m \u001b[38;5;28;43mopen\u001b[39;49m\u001b[43m(\u001b[49m\u001b[38;5;28;43mself\u001b[39;49m\u001b[38;5;241;43m.\u001b[39;49m\u001b[43mfilename\u001b[49m\u001b[43m,\u001b[49m\u001b[43m \u001b[49m\u001b[38;5;28;43mself\u001b[39;49m\u001b[38;5;241;43m.\u001b[39;49m\u001b[43m_read_flags\u001b[49m\u001b[43m,\u001b[49m\u001b[43m \u001b[49m\u001b[43mencoding\u001b[49m\u001b[38;5;241;43m=\u001b[39;49m\u001b[43mencoding\u001b[49m\u001b[43m)\u001b[49m \u001b[38;5;28;01mas\u001b[39;00m f:\n\u001b[1;32m    354\u001b[0m         \u001b[38;5;28mself\u001b[39m\u001b[38;5;241m.\u001b[39mdata \u001b[38;5;241m=\u001b[39m f\u001b[38;5;241m.\u001b[39mread()\n\u001b[1;32m    355\u001b[0m \u001b[38;5;28;01melif\u001b[39;00m \u001b[38;5;28mself\u001b[39m\u001b[38;5;241m.\u001b[39murl \u001b[38;5;129;01mis\u001b[39;00m \u001b[38;5;129;01mnot\u001b[39;00m \u001b[38;5;28;01mNone\u001b[39;00m:\n\u001b[1;32m    356\u001b[0m     \u001b[38;5;66;03m# Deferred import\u001b[39;00m\n",
      "\u001b[0;31mFileNotFoundError\u001b[0m: [Errno 2] No such file or directory: '1.png'"
     ]
    }
   ],
   "source": [
    "Image(filename = '1.png')"
   ]
  },
  {
   "cell_type": "code",
   "execution_count": null,
   "id": "1063ea29",
   "metadata": {},
   "outputs": [],
   "source": []
  },
  {
   "cell_type": "markdown",
   "id": "8ea847fe",
   "metadata": {},
   "source": [
    "# 1.2 Briefly explain the economic significance of the intercept and slope coefficients.¶"
   ]
  },
  {
   "cell_type": "markdown",
   "id": "fbdc23a0",
   "metadata": {},
   "source": [
    "### The intercept α is also called pricing error and it measures the accuracy of our model in predicting the excess return of the asset/portfolio.\n",
    "\n",
    "### The slope β reflects the sensitiveness of the asset/portfolio related to the market risk premium."
   ]
  },
  {
   "cell_type": "markdown",
   "id": "9adf6849",
   "metadata": {},
   "source": [
    "# 2.1 Calculate the mean monthly return for each of the ten industry portfolios, as well as the market portfolio."
   ]
  },
  {
   "cell_type": "code",
   "execution_count": null,
   "id": "069d0fc4",
   "metadata": {
    "scrolled": true
   },
   "outputs": [],
   "source": [
    "Image(filename = '2.1.png', width = 300, height = 300)"
   ]
  },
  {
   "cell_type": "code",
   "execution_count": null,
   "id": "7f283178",
   "metadata": {
    "scrolled": false
   },
   "outputs": [],
   "source": [
    "Image(filename = '2.12.png',width = 200, height = 200)"
   ]
  },
  {
   "cell_type": "markdown",
   "id": "7c3d96b9",
   "metadata": {},
   "source": [
    "# 2.2 Regress the mean monthly returns of the ten industry portfolios and the market portfolio on the corresponding β's.¶"
   ]
  },
  {
   "cell_type": "code",
   "execution_count": null,
   "id": "57f803d0",
   "metadata": {
    "scrolled": true
   },
   "outputs": [],
   "source": [
    "Image(filename = '2.2.png')"
   ]
  },
  {
   "cell_type": "markdown",
   "id": "d37ac503",
   "metadata": {},
   "source": [
    "# 2.3 Use the estimated intercept and slope coefficients for the SML to plot the SML in the range of β from zero to two on the horizontal axis. Also plot the positions of the ten industry portfolios and the market portfolio."
   ]
  },
  {
   "cell_type": "code",
   "execution_count": null,
   "id": "ab1ded3a",
   "metadata": {},
   "outputs": [],
   "source": [
    "Image(filename = '2.3.png')"
   ]
  },
  {
   "cell_type": "markdown",
   "id": "9c8dc906",
   "metadata": {},
   "source": [
    "# 2.4 Briefly explain the economic significance of the SML.¶"
   ]
  },
  {
   "cell_type": "markdown",
   "id": "da0319ae",
   "metadata": {},
   "source": [
    "### Security Market Line is a graphical representation of the CAMP model. It shows how the returns of the assets or portfolios reacts to the market risk which represented by Beta.\n",
    "\n",
    "### The assets falling below the SML means the asset or portflio is over-valued and investors should sell the asset or portfolio. In turn, the price of the asset or portfolio will drop and the return becomes higher until it is back to the SML.\n",
    "\n",
    "### The assets lying above the SML means the asset or portfolio is under-valued and investors should buy the asset or portfolio. In turn, the asset or portfolio will fall down until it reaches SML."
   ]
  },
  {
   "cell_type": "markdown",
   "id": "612209ad",
   "metadata": {},
   "source": [
    "# Coding Part"
   ]
  },
  {
   "cell_type": "code",
   "execution_count": 3,
   "id": "0fd5490b",
   "metadata": {},
   "outputs": [],
   "source": [
    "import numpy as np\n",
    "\n",
    "import pandas as pd\n",
    "\n",
    "from scipy import stats\n",
    "\n",
    "import matplotlib.pyplot as plt\n",
    "\n",
    "import seaborn as sns\n",
    "\n",
    "sns.set_style('dark')\n",
    "\n",
    "import statsmodels.api as sm"
   ]
  },
  {
   "cell_type": "code",
   "execution_count": 4,
   "id": "caf545f8",
   "metadata": {
    "scrolled": true
   },
   "outputs": [
    {
     "name": "stderr",
     "output_type": "stream",
     "text": [
      "/Users/jiaminglv/opt/anaconda3/lib/python3.9/site-packages/openpyxl/worksheet/_reader.py:312: UserWarning: Unknown extension is not supported and will be removed\n",
      "  warn(msg)\n"
     ]
    }
   ],
   "source": [
    "Industry_Portfolio = pd.read_excel('/Users/jiaminglv/Desktop/jupy files/mqf financial engineering/Asset Pricing HW/Industry_Portfolios.xlsx')"
   ]
  },
  {
   "cell_type": "code",
   "execution_count": 5,
   "id": "8262e9ad",
   "metadata": {},
   "outputs": [
    {
     "name": "stderr",
     "output_type": "stream",
     "text": [
      "/Users/jiaminglv/opt/anaconda3/lib/python3.9/site-packages/openpyxl/worksheet/_reader.py:312: UserWarning: Unknown extension is not supported and will be removed\n",
      "  warn(msg)\n"
     ]
    }
   ],
   "source": [
    "M_Portfolio = pd.read_excel('/Users/jiaminglv/Desktop/jupy files/mqf financial engineering/Asset Pricing HW/Market_Portfolio.xlsx')"
   ]
  },
  {
   "cell_type": "code",
   "execution_count": 6,
   "id": "f26f4d33",
   "metadata": {
    "scrolled": false
   },
   "outputs": [
    {
     "data": {
      "text/html": [
       "<div>\n",
       "<style scoped>\n",
       "    .dataframe tbody tr th:only-of-type {\n",
       "        vertical-align: middle;\n",
       "    }\n",
       "\n",
       "    .dataframe tbody tr th {\n",
       "        vertical-align: top;\n",
       "    }\n",
       "\n",
       "    .dataframe thead th {\n",
       "        text-align: right;\n",
       "    }\n",
       "</style>\n",
       "<table border=\"1\" class=\"dataframe\">\n",
       "  <thead>\n",
       "    <tr style=\"text-align: right;\">\n",
       "      <th></th>\n",
       "      <th>Date</th>\n",
       "      <th>NoDur</th>\n",
       "      <th>Durbl</th>\n",
       "      <th>Manuf</th>\n",
       "      <th>Enrgy</th>\n",
       "      <th>HiTec</th>\n",
       "      <th>Telcm</th>\n",
       "      <th>Shops</th>\n",
       "      <th>Hlth</th>\n",
       "      <th>Utils</th>\n",
       "      <th>Other</th>\n",
       "    </tr>\n",
       "  </thead>\n",
       "  <tbody>\n",
       "    <tr>\n",
       "      <th>0</th>\n",
       "      <td>200401</td>\n",
       "      <td>0.06</td>\n",
       "      <td>-1.07</td>\n",
       "      <td>-0.62</td>\n",
       "      <td>0.44</td>\n",
       "      <td>4.53</td>\n",
       "      <td>1.41</td>\n",
       "      <td>0.45</td>\n",
       "      <td>3.09</td>\n",
       "      <td>1.92</td>\n",
       "      <td>2.88</td>\n",
       "    </tr>\n",
       "    <tr>\n",
       "      <th>1</th>\n",
       "      <td>200402</td>\n",
       "      <td>4.25</td>\n",
       "      <td>-0.07</td>\n",
       "      <td>1.95</td>\n",
       "      <td>4.69</td>\n",
       "      <td>-2.92</td>\n",
       "      <td>-0.52</td>\n",
       "      <td>6.09</td>\n",
       "      <td>0.89</td>\n",
       "      <td>2.07</td>\n",
       "      <td>2.16</td>\n",
       "    </tr>\n",
       "    <tr>\n",
       "      <th>2</th>\n",
       "      <td>200403</td>\n",
       "      <td>-0.09</td>\n",
       "      <td>-1.15</td>\n",
       "      <td>-0.27</td>\n",
       "      <td>-0.13</td>\n",
       "      <td>-2.55</td>\n",
       "      <td>-2.07</td>\n",
       "      <td>0.29</td>\n",
       "      <td>-3.96</td>\n",
       "      <td>1.13</td>\n",
       "      <td>-0.63</td>\n",
       "    </tr>\n",
       "    <tr>\n",
       "      <th>3</th>\n",
       "      <td>200404</td>\n",
       "      <td>1.42</td>\n",
       "      <td>2.30</td>\n",
       "      <td>-0.17</td>\n",
       "      <td>2.52</td>\n",
       "      <td>-4.91</td>\n",
       "      <td>-0.48</td>\n",
       "      <td>-2.70</td>\n",
       "      <td>3.54</td>\n",
       "      <td>-3.55</td>\n",
       "      <td>-3.76</td>\n",
       "    </tr>\n",
       "    <tr>\n",
       "      <th>4</th>\n",
       "      <td>200405</td>\n",
       "      <td>-1.89</td>\n",
       "      <td>-1.64</td>\n",
       "      <td>1.61</td>\n",
       "      <td>0.39</td>\n",
       "      <td>4.85</td>\n",
       "      <td>-2.95</td>\n",
       "      <td>0.30</td>\n",
       "      <td>-0.42</td>\n",
       "      <td>1.28</td>\n",
       "      <td>1.86</td>\n",
       "    </tr>\n",
       "  </tbody>\n",
       "</table>\n",
       "</div>"
      ],
      "text/plain": [
       "     Date  NoDur  Durbl  Manuf  Enrgy  HiTec  Telcm  Shops  Hlth  Utils  Other\n",
       "0  200401   0.06  -1.07  -0.62   0.44   4.53   1.41   0.45  3.09   1.92   2.88\n",
       "1  200402   4.25  -0.07   1.95   4.69  -2.92  -0.52   6.09  0.89   2.07   2.16\n",
       "2  200403  -0.09  -1.15  -0.27  -0.13  -2.55  -2.07   0.29 -3.96   1.13  -0.63\n",
       "3  200404   1.42   2.30  -0.17   2.52  -4.91  -0.48  -2.70  3.54  -3.55  -3.76\n",
       "4  200405  -1.89  -1.64   1.61   0.39   4.85  -2.95   0.30 -0.42   1.28   1.86"
      ]
     },
     "execution_count": 6,
     "metadata": {},
     "output_type": "execute_result"
    }
   ],
   "source": [
    "Industry_Portfolio.head()"
   ]
  },
  {
   "cell_type": "code",
   "execution_count": 7,
   "id": "5f48ec8d",
   "metadata": {
    "scrolled": true
   },
   "outputs": [
    {
     "data": {
      "text/html": [
       "<div>\n",
       "<style scoped>\n",
       "    .dataframe tbody tr th:only-of-type {\n",
       "        vertical-align: middle;\n",
       "    }\n",
       "\n",
       "    .dataframe tbody tr th {\n",
       "        vertical-align: top;\n",
       "    }\n",
       "\n",
       "    .dataframe thead th {\n",
       "        text-align: right;\n",
       "    }\n",
       "</style>\n",
       "<table border=\"1\" class=\"dataframe\">\n",
       "  <thead>\n",
       "    <tr style=\"text-align: right;\">\n",
       "      <th></th>\n",
       "      <th>NoDur</th>\n",
       "      <th>Durbl</th>\n",
       "      <th>Manuf</th>\n",
       "      <th>Enrgy</th>\n",
       "      <th>HiTec</th>\n",
       "      <th>Telcm</th>\n",
       "      <th>Shops</th>\n",
       "      <th>Hlth</th>\n",
       "      <th>Utils</th>\n",
       "      <th>Other</th>\n",
       "    </tr>\n",
       "  </thead>\n",
       "  <tbody>\n",
       "    <tr>\n",
       "      <th>0</th>\n",
       "      <td>0.06</td>\n",
       "      <td>-1.07</td>\n",
       "      <td>-0.62</td>\n",
       "      <td>0.44</td>\n",
       "      <td>4.53</td>\n",
       "      <td>1.41</td>\n",
       "      <td>0.45</td>\n",
       "      <td>3.09</td>\n",
       "      <td>1.92</td>\n",
       "      <td>2.88</td>\n",
       "    </tr>\n",
       "    <tr>\n",
       "      <th>1</th>\n",
       "      <td>4.25</td>\n",
       "      <td>-0.07</td>\n",
       "      <td>1.95</td>\n",
       "      <td>4.69</td>\n",
       "      <td>-2.92</td>\n",
       "      <td>-0.52</td>\n",
       "      <td>6.09</td>\n",
       "      <td>0.89</td>\n",
       "      <td>2.07</td>\n",
       "      <td>2.16</td>\n",
       "    </tr>\n",
       "    <tr>\n",
       "      <th>2</th>\n",
       "      <td>-0.09</td>\n",
       "      <td>-1.15</td>\n",
       "      <td>-0.27</td>\n",
       "      <td>-0.13</td>\n",
       "      <td>-2.55</td>\n",
       "      <td>-2.07</td>\n",
       "      <td>0.29</td>\n",
       "      <td>-3.96</td>\n",
       "      <td>1.13</td>\n",
       "      <td>-0.63</td>\n",
       "    </tr>\n",
       "    <tr>\n",
       "      <th>3</th>\n",
       "      <td>1.42</td>\n",
       "      <td>2.30</td>\n",
       "      <td>-0.17</td>\n",
       "      <td>2.52</td>\n",
       "      <td>-4.91</td>\n",
       "      <td>-0.48</td>\n",
       "      <td>-2.70</td>\n",
       "      <td>3.54</td>\n",
       "      <td>-3.55</td>\n",
       "      <td>-3.76</td>\n",
       "    </tr>\n",
       "    <tr>\n",
       "      <th>4</th>\n",
       "      <td>-1.89</td>\n",
       "      <td>-1.64</td>\n",
       "      <td>1.61</td>\n",
       "      <td>0.39</td>\n",
       "      <td>4.85</td>\n",
       "      <td>-2.95</td>\n",
       "      <td>0.30</td>\n",
       "      <td>-0.42</td>\n",
       "      <td>1.28</td>\n",
       "      <td>1.86</td>\n",
       "    </tr>\n",
       "  </tbody>\n",
       "</table>\n",
       "</div>"
      ],
      "text/plain": [
       "   NoDur  Durbl  Manuf  Enrgy  HiTec  Telcm  Shops  Hlth  Utils  Other\n",
       "0   0.06  -1.07  -0.62   0.44   4.53   1.41   0.45  3.09   1.92   2.88\n",
       "1   4.25  -0.07   1.95   4.69  -2.92  -0.52   6.09  0.89   2.07   2.16\n",
       "2  -0.09  -1.15  -0.27  -0.13  -2.55  -2.07   0.29 -3.96   1.13  -0.63\n",
       "3   1.42   2.30  -0.17   2.52  -4.91  -0.48  -2.70  3.54  -3.55  -3.76\n",
       "4  -1.89  -1.64   1.61   0.39   4.85  -2.95   0.30 -0.42   1.28   1.86"
      ]
     },
     "execution_count": 7,
     "metadata": {},
     "output_type": "execute_result"
    }
   ],
   "source": [
    "Industry_Portfolio_Data = Industry_Portfolio.drop(['Date'], axis = 1)\n",
    "\n",
    "Industry_Portfolio_Data.head()"
   ]
  },
  {
   "cell_type": "code",
   "execution_count": 8,
   "id": "03d4fd26",
   "metadata": {
    "scrolled": true
   },
   "outputs": [
    {
     "data": {
      "text/html": [
       "<div>\n",
       "<style scoped>\n",
       "    .dataframe tbody tr th:only-of-type {\n",
       "        vertical-align: middle;\n",
       "    }\n",
       "\n",
       "    .dataframe tbody tr th {\n",
       "        vertical-align: top;\n",
       "    }\n",
       "\n",
       "    .dataframe thead th {\n",
       "        text-align: right;\n",
       "    }\n",
       "</style>\n",
       "<table border=\"1\" class=\"dataframe\">\n",
       "  <thead>\n",
       "    <tr style=\"text-align: right;\">\n",
       "      <th></th>\n",
       "      <th>Date</th>\n",
       "      <th>Market</th>\n",
       "    </tr>\n",
       "  </thead>\n",
       "  <tbody>\n",
       "    <tr>\n",
       "      <th>0</th>\n",
       "      <td>200401</td>\n",
       "      <td>2.22</td>\n",
       "    </tr>\n",
       "    <tr>\n",
       "      <th>1</th>\n",
       "      <td>200402</td>\n",
       "      <td>1.46</td>\n",
       "    </tr>\n",
       "    <tr>\n",
       "      <th>2</th>\n",
       "      <td>200403</td>\n",
       "      <td>-1.23</td>\n",
       "    </tr>\n",
       "    <tr>\n",
       "      <th>3</th>\n",
       "      <td>200404</td>\n",
       "      <td>-1.75</td>\n",
       "    </tr>\n",
       "    <tr>\n",
       "      <th>4</th>\n",
       "      <td>200405</td>\n",
       "      <td>1.23</td>\n",
       "    </tr>\n",
       "  </tbody>\n",
       "</table>\n",
       "</div>"
      ],
      "text/plain": [
       "     Date  Market\n",
       "0  200401    2.22\n",
       "1  200402    1.46\n",
       "2  200403   -1.23\n",
       "3  200404   -1.75\n",
       "4  200405    1.23"
      ]
     },
     "execution_count": 8,
     "metadata": {},
     "output_type": "execute_result"
    }
   ],
   "source": [
    "M_Portfolio.head()"
   ]
  },
  {
   "cell_type": "code",
   "execution_count": 9,
   "id": "fbeb4c1f",
   "metadata": {},
   "outputs": [],
   "source": [
    "M_Portfolio_Return = M_Portfolio['Market'].values"
   ]
  },
  {
   "cell_type": "code",
   "execution_count": 10,
   "id": "77fee72b",
   "metadata": {},
   "outputs": [],
   "source": [
    "Rf = 0.13"
   ]
  },
  {
   "cell_type": "code",
   "execution_count": 11,
   "id": "d213d075",
   "metadata": {},
   "outputs": [
    {
     "data": {
      "text/plain": [
       "array([  2.09,   1.33,  -1.36,  -1.88,   1.1 ,   1.81,  -4.1 ,   0.06,\n",
       "         1.58,   1.41,   4.56,   3.45,  -2.73,   1.92,  -1.89,  -2.53,\n",
       "         3.76,   0.67,   4.03,  -1.05,   0.65,  -1.88,   3.79,  -0.06,\n",
       "         3.26,  -0.09,   1.7 ,   0.96,  -3.27,  -0.08,  -0.51,   2.32,\n",
       "         2.12,   3.51,   2.  ,   1.14,   1.71,  -1.71,   0.98,   3.8 ,\n",
       "         3.52,  -1.69,  -3.46,   1.21,   3.41,   1.99,  -4.62,  -0.73,\n",
       "        -6.27,  -3.09,  -0.9 ,   4.65,   1.91,  -8.4 ,  -0.75,   1.53,\n",
       "        -9.22, -17.28,  -7.96,   1.62,  -8.25, -10.22,   8.84,  10.07,\n",
       "         5.08,   0.31,   7.6 ,   3.2 ,   3.96,  -2.72,   5.43,   2.63,\n",
       "        -3.49,   3.27,   6.2 ,   1.88,  -8.01,  -5.68,   6.8 ,  -4.89,\n",
       "         9.42,   3.76,   0.48,   6.7 ,   1.89,   3.37,   0.35,   2.77,\n",
       "        -1.4 ,  -1.88,  -2.47,  -6.12,  -7.73,  11.21,  -0.39,   0.61,\n",
       "         4.93,   4.3 ,   2.98,  -0.97,  -6.32,   3.75,   0.66,   2.44,\n",
       "         2.62,  -1.87,   0.65,   1.06,   5.45,   1.15,   3.9 ,   1.43,\n",
       "         2.68,  -1.34,   5.53,  -2.82,   3.63,   4.04,   2.99,   2.68])"
      ]
     },
     "execution_count": 11,
     "metadata": {},
     "output_type": "execute_result"
    }
   ],
   "source": [
    "M_Excess_return = M_Portfolio_Return - Rf\n",
    "\n",
    "M_Excess_return "
   ]
  },
  {
   "cell_type": "code",
   "execution_count": 12,
   "id": "705f8ff6",
   "metadata": {
    "scrolled": true
   },
   "outputs": [
    {
     "data": {
      "text/html": [
       "<div>\n",
       "<style scoped>\n",
       "    .dataframe tbody tr th:only-of-type {\n",
       "        vertical-align: middle;\n",
       "    }\n",
       "\n",
       "    .dataframe tbody tr th {\n",
       "        vertical-align: top;\n",
       "    }\n",
       "\n",
       "    .dataframe thead th {\n",
       "        text-align: right;\n",
       "    }\n",
       "</style>\n",
       "<table border=\"1\" class=\"dataframe\">\n",
       "  <thead>\n",
       "    <tr style=\"text-align: right;\">\n",
       "      <th></th>\n",
       "      <th>NoDur</th>\n",
       "      <th>Durbl</th>\n",
       "      <th>Manuf</th>\n",
       "      <th>Enrgy</th>\n",
       "      <th>HiTec</th>\n",
       "      <th>Telcm</th>\n",
       "      <th>Shops</th>\n",
       "      <th>Hlth</th>\n",
       "      <th>Utils</th>\n",
       "      <th>Other</th>\n",
       "    </tr>\n",
       "  </thead>\n",
       "  <tbody>\n",
       "    <tr>\n",
       "      <th>0</th>\n",
       "      <td>-0.07</td>\n",
       "      <td>-1.20</td>\n",
       "      <td>-0.75</td>\n",
       "      <td>0.31</td>\n",
       "      <td>4.40</td>\n",
       "      <td>1.28</td>\n",
       "      <td>0.32</td>\n",
       "      <td>2.96</td>\n",
       "      <td>1.79</td>\n",
       "      <td>2.75</td>\n",
       "    </tr>\n",
       "    <tr>\n",
       "      <th>1</th>\n",
       "      <td>4.12</td>\n",
       "      <td>-0.20</td>\n",
       "      <td>1.82</td>\n",
       "      <td>4.56</td>\n",
       "      <td>-3.05</td>\n",
       "      <td>-0.65</td>\n",
       "      <td>5.96</td>\n",
       "      <td>0.76</td>\n",
       "      <td>1.94</td>\n",
       "      <td>2.03</td>\n",
       "    </tr>\n",
       "    <tr>\n",
       "      <th>2</th>\n",
       "      <td>-0.22</td>\n",
       "      <td>-1.28</td>\n",
       "      <td>-0.40</td>\n",
       "      <td>-0.26</td>\n",
       "      <td>-2.68</td>\n",
       "      <td>-2.20</td>\n",
       "      <td>0.16</td>\n",
       "      <td>-4.09</td>\n",
       "      <td>1.00</td>\n",
       "      <td>-0.76</td>\n",
       "    </tr>\n",
       "    <tr>\n",
       "      <th>3</th>\n",
       "      <td>1.29</td>\n",
       "      <td>2.17</td>\n",
       "      <td>-0.30</td>\n",
       "      <td>2.39</td>\n",
       "      <td>-5.04</td>\n",
       "      <td>-0.61</td>\n",
       "      <td>-2.83</td>\n",
       "      <td>3.41</td>\n",
       "      <td>-3.68</td>\n",
       "      <td>-3.89</td>\n",
       "    </tr>\n",
       "    <tr>\n",
       "      <th>4</th>\n",
       "      <td>-2.02</td>\n",
       "      <td>-1.77</td>\n",
       "      <td>1.48</td>\n",
       "      <td>0.26</td>\n",
       "      <td>4.72</td>\n",
       "      <td>-3.08</td>\n",
       "      <td>0.17</td>\n",
       "      <td>-0.55</td>\n",
       "      <td>1.15</td>\n",
       "      <td>1.73</td>\n",
       "    </tr>\n",
       "    <tr>\n",
       "      <th>...</th>\n",
       "      <td>...</td>\n",
       "      <td>...</td>\n",
       "      <td>...</td>\n",
       "      <td>...</td>\n",
       "      <td>...</td>\n",
       "      <td>...</td>\n",
       "      <td>...</td>\n",
       "      <td>...</td>\n",
       "      <td>...</td>\n",
       "      <td>...</td>\n",
       "    </tr>\n",
       "    <tr>\n",
       "      <th>115</th>\n",
       "      <td>-4.13</td>\n",
       "      <td>-1.13</td>\n",
       "      <td>-2.08</td>\n",
       "      <td>-1.96</td>\n",
       "      <td>-0.25</td>\n",
       "      <td>-3.41</td>\n",
       "      <td>-4.34</td>\n",
       "      <td>-3.62</td>\n",
       "      <td>-4.56</td>\n",
       "      <td>-3.79</td>\n",
       "    </tr>\n",
       "    <tr>\n",
       "      <th>116</th>\n",
       "      <td>1.81</td>\n",
       "      <td>6.33</td>\n",
       "      <td>5.07</td>\n",
       "      <td>1.90</td>\n",
       "      <td>3.64</td>\n",
       "      <td>4.20</td>\n",
       "      <td>4.33</td>\n",
       "      <td>4.06</td>\n",
       "      <td>0.92</td>\n",
       "      <td>3.70</td>\n",
       "    </tr>\n",
       "    <tr>\n",
       "      <th>117</th>\n",
       "      <td>4.62</td>\n",
       "      <td>0.59</td>\n",
       "      <td>4.43</td>\n",
       "      <td>4.73</td>\n",
       "      <td>3.67</td>\n",
       "      <td>5.39</td>\n",
       "      <td>4.95</td>\n",
       "      <td>3.34</td>\n",
       "      <td>3.22</td>\n",
       "      <td>3.74</td>\n",
       "    </tr>\n",
       "    <tr>\n",
       "      <th>118</th>\n",
       "      <td>1.16</td>\n",
       "      <td>1.68</td>\n",
       "      <td>2.82</td>\n",
       "      <td>0.72</td>\n",
       "      <td>3.52</td>\n",
       "      <td>0.14</td>\n",
       "      <td>3.54</td>\n",
       "      <td>4.41</td>\n",
       "      <td>-1.94</td>\n",
       "      <td>4.61</td>\n",
       "    </tr>\n",
       "    <tr>\n",
       "      <th>119</th>\n",
       "      <td>2.52</td>\n",
       "      <td>1.05</td>\n",
       "      <td>3.00</td>\n",
       "      <td>2.82</td>\n",
       "      <td>3.91</td>\n",
       "      <td>3.83</td>\n",
       "      <td>0.07</td>\n",
       "      <td>0.58</td>\n",
       "      <td>1.66</td>\n",
       "      <td>2.98</td>\n",
       "    </tr>\n",
       "  </tbody>\n",
       "</table>\n",
       "<p>120 rows × 10 columns</p>\n",
       "</div>"
      ],
      "text/plain": [
       "     NoDur  Durbl  Manuf  Enrgy  HiTec  Telcm  Shops  Hlth  Utils  Other\n",
       "0    -0.07  -1.20  -0.75   0.31   4.40   1.28   0.32  2.96   1.79   2.75\n",
       "1     4.12  -0.20   1.82   4.56  -3.05  -0.65   5.96  0.76   1.94   2.03\n",
       "2    -0.22  -1.28  -0.40  -0.26  -2.68  -2.20   0.16 -4.09   1.00  -0.76\n",
       "3     1.29   2.17  -0.30   2.39  -5.04  -0.61  -2.83  3.41  -3.68  -3.89\n",
       "4    -2.02  -1.77   1.48   0.26   4.72  -3.08   0.17 -0.55   1.15   1.73\n",
       "..     ...    ...    ...    ...    ...    ...    ...   ...    ...    ...\n",
       "115  -4.13  -1.13  -2.08  -1.96  -0.25  -3.41  -4.34 -3.62  -4.56  -3.79\n",
       "116   1.81   6.33   5.07   1.90   3.64   4.20   4.33  4.06   0.92   3.70\n",
       "117   4.62   0.59   4.43   4.73   3.67   5.39   4.95  3.34   3.22   3.74\n",
       "118   1.16   1.68   2.82   0.72   3.52   0.14   3.54  4.41  -1.94   4.61\n",
       "119   2.52   1.05   3.00   2.82   3.91   3.83   0.07  0.58   1.66   2.98\n",
       "\n",
       "[120 rows x 10 columns]"
      ]
     },
     "execution_count": 12,
     "metadata": {},
     "output_type": "execute_result"
    }
   ],
   "source": [
    "Excesss_Return_of_Ten_Industry = Industry_Portfolio_Data - Rf\n",
    "\n",
    "Excesss_Return_of_Ten_Industry"
   ]
  },
  {
   "cell_type": "markdown",
   "id": "01888515",
   "metadata": {},
   "source": [
    "# 1.1 Create a table showing the intercept and slope coefficients for the ten industry portfolios."
   ]
  },
  {
   "cell_type": "code",
   "execution_count": 13,
   "id": "2ccad892",
   "metadata": {
    "scrolled": true
   },
   "outputs": [
    {
     "data": {
      "text/html": [
       "<div>\n",
       "<style scoped>\n",
       "    .dataframe tbody tr th:only-of-type {\n",
       "        vertical-align: middle;\n",
       "    }\n",
       "\n",
       "    .dataframe tbody tr th {\n",
       "        vertical-align: top;\n",
       "    }\n",
       "\n",
       "    .dataframe thead th {\n",
       "        text-align: right;\n",
       "    }\n",
       "</style>\n",
       "<table border=\"1\" class=\"dataframe\">\n",
       "  <thead>\n",
       "    <tr style=\"text-align: right;\">\n",
       "      <th></th>\n",
       "      <th>NoDur</th>\n",
       "      <th>Durbl</th>\n",
       "      <th>Manuf</th>\n",
       "      <th>Enrgy</th>\n",
       "      <th>HiTec</th>\n",
       "      <th>Telcm</th>\n",
       "      <th>Shops</th>\n",
       "      <th>Hlth</th>\n",
       "      <th>Utils</th>\n",
       "      <th>Other</th>\n",
       "    </tr>\n",
       "  </thead>\n",
       "  <tbody>\n",
       "    <tr>\n",
       "      <th>intercept</th>\n",
       "      <td>0.369443</td>\n",
       "      <td>-0.415599</td>\n",
       "      <td>0.159771</td>\n",
       "      <td>0.501719</td>\n",
       "      <td>-0.064020</td>\n",
       "      <td>0.194691</td>\n",
       "      <td>0.275492</td>\n",
       "      <td>0.237841</td>\n",
       "      <td>0.444585</td>\n",
       "      <td>-0.387135</td>\n",
       "    </tr>\n",
       "    <tr>\n",
       "      <th>slope</th>\n",
       "      <td>0.652647</td>\n",
       "      <td>1.648536</td>\n",
       "      <td>1.169846</td>\n",
       "      <td>0.969850</td>\n",
       "      <td>1.132969</td>\n",
       "      <td>0.900729</td>\n",
       "      <td>0.826492</td>\n",
       "      <td>0.673036</td>\n",
       "      <td>0.538086</td>\n",
       "      <td>1.207309</td>\n",
       "    </tr>\n",
       "  </tbody>\n",
       "</table>\n",
       "</div>"
      ],
      "text/plain": [
       "              NoDur     Durbl     Manuf     Enrgy     HiTec     Telcm  \\\n",
       "intercept  0.369443 -0.415599  0.159771  0.501719 -0.064020  0.194691   \n",
       "slope      0.652647  1.648536  1.169846  0.969850  1.132969  0.900729   \n",
       "\n",
       "              Shops      Hlth     Utils     Other  \n",
       "intercept  0.275492  0.237841  0.444585 -0.387135  \n",
       "slope      0.826492  0.673036  0.538086  1.207309  "
      ]
     },
     "execution_count": 13,
     "metadata": {},
     "output_type": "execute_result"
    }
   ],
   "source": [
    "β = []\n",
    "α = []\n",
    "def func(dataframe):\n",
    "    for i in dataframe.columns:\n",
    "        β.append(stats.linregress(M_Excess_return, dataframe[i])[0])\n",
    "        α.append(stats.linregress(M_Excess_return,dataframe[i])[1])\n",
    "\n",
    "func(Excesss_Return_of_Ten_Industry)\n",
    "\n",
    "β = pd.DataFrame(β).T\n",
    "α = pd.DataFrame(α).T\n",
    "\n",
    "combined_beta_alpha = pd.concat([α,β], axis = 0)\n",
    "combined_beta_alpha.index = ['intercept','slope']\n",
    "combined_beta_alpha.columns = ['NoDur', 'Durbl', 'Manuf', 'Enrgy', 'HiTec', 'Telcm', 'Shops', 'Hlth',\n",
    "       'Utils', 'Other']\n",
    "combined_beta_alpha"
   ]
  },
  {
   "cell_type": "markdown",
   "id": "3b825e2d",
   "metadata": {},
   "source": [
    "# 1.2 Briefly explain the economic significance of the intercept and slope coefficients."
   ]
  },
  {
   "cell_type": "markdown",
   "id": "7acfb565",
   "metadata": {},
   "source": [
    "### The intercept α is also called pricing error and it measures the accuracy of our model in predicting the excess return of the asset/portfolio. \n",
    "\n",
    "### The slope β reflects the sensitiveness of the asset/portfolio related to the market risk premium. "
   ]
  },
  {
   "cell_type": "markdown",
   "id": "ba92e50c",
   "metadata": {},
   "source": [
    "# 2.1 Calculate the mean monthly return for each of the ten industry portfolios, as well as the market portfolio."
   ]
  },
  {
   "cell_type": "code",
   "execution_count": 14,
   "id": "b1f0f283",
   "metadata": {},
   "outputs": [
    {
     "data": {
      "text/plain": [
       "NoDur    0.902833\n",
       "Durbl    0.733333\n",
       "Manuf    1.012833\n",
       "Enrgy    1.231167\n",
       "HiTec    0.766250\n",
       "Telcm    0.881417\n",
       "Shops    0.916333\n",
       "Hlth     0.783833\n",
       "Utils    0.907167\n",
       "Other    0.489083\n",
       "dtype: float64"
      ]
     },
     "execution_count": 14,
     "metadata": {},
     "output_type": "execute_result"
    }
   ],
   "source": [
    "Industry_Portfolio_Data_Mean = Industry_Portfolio_Data.mean()\n",
    "\n",
    "Industry_Portfolio_Data_Mean"
   ]
  },
  {
   "cell_type": "code",
   "execution_count": 15,
   "id": "47e5090e",
   "metadata": {
    "scrolled": true
   },
   "outputs": [
    {
     "data": {
      "text/plain": [
       "0.7480833333333332"
      ]
     },
     "execution_count": 15,
     "metadata": {},
     "output_type": "execute_result"
    }
   ],
   "source": [
    "M_Portfolio_Mean = M_Portfolio['Market'].mean()\n",
    "\n",
    "M_Portfolio_Mean"
   ]
  },
  {
   "cell_type": "markdown",
   "id": "6dd37b60",
   "metadata": {},
   "source": [
    "# 2.2 Regress the mean monthly returns of the ten industry portfolios and the market portfolio on the corresponding β's."
   ]
  },
  {
   "cell_type": "code",
   "execution_count": 16,
   "id": "d12cf234",
   "metadata": {},
   "outputs": [],
   "source": [
    "Industry_Portfolio_Data_Mean['M_Portfolio'] = 0.7480833333333334\n",
    "\n",
    "Industry_Portfolio_Data_Mean = pd.DataFrame(Industry_Portfolio_Data_Mean, columns = ['return'])"
   ]
  },
  {
   "cell_type": "code",
   "execution_count": 17,
   "id": "cceeac5e",
   "metadata": {},
   "outputs": [
    {
     "data": {
      "text/html": [
       "<div>\n",
       "<style scoped>\n",
       "    .dataframe tbody tr th:only-of-type {\n",
       "        vertical-align: middle;\n",
       "    }\n",
       "\n",
       "    .dataframe tbody tr th {\n",
       "        vertical-align: top;\n",
       "    }\n",
       "\n",
       "    .dataframe thead th {\n",
       "        text-align: right;\n",
       "    }\n",
       "</style>\n",
       "<table border=\"1\" class=\"dataframe\">\n",
       "  <thead>\n",
       "    <tr style=\"text-align: right;\">\n",
       "      <th></th>\n",
       "      <th>return</th>\n",
       "    </tr>\n",
       "  </thead>\n",
       "  <tbody>\n",
       "    <tr>\n",
       "      <th>NoDur</th>\n",
       "      <td>0.902833</td>\n",
       "    </tr>\n",
       "    <tr>\n",
       "      <th>Durbl</th>\n",
       "      <td>0.733333</td>\n",
       "    </tr>\n",
       "    <tr>\n",
       "      <th>Manuf</th>\n",
       "      <td>1.012833</td>\n",
       "    </tr>\n",
       "    <tr>\n",
       "      <th>Enrgy</th>\n",
       "      <td>1.231167</td>\n",
       "    </tr>\n",
       "    <tr>\n",
       "      <th>HiTec</th>\n",
       "      <td>0.766250</td>\n",
       "    </tr>\n",
       "    <tr>\n",
       "      <th>Telcm</th>\n",
       "      <td>0.881417</td>\n",
       "    </tr>\n",
       "    <tr>\n",
       "      <th>Shops</th>\n",
       "      <td>0.916333</td>\n",
       "    </tr>\n",
       "    <tr>\n",
       "      <th>Hlth</th>\n",
       "      <td>0.783833</td>\n",
       "    </tr>\n",
       "    <tr>\n",
       "      <th>Utils</th>\n",
       "      <td>0.907167</td>\n",
       "    </tr>\n",
       "    <tr>\n",
       "      <th>Other</th>\n",
       "      <td>0.489083</td>\n",
       "    </tr>\n",
       "    <tr>\n",
       "      <th>M_Portfolio</th>\n",
       "      <td>0.748083</td>\n",
       "    </tr>\n",
       "  </tbody>\n",
       "</table>\n",
       "</div>"
      ],
      "text/plain": [
       "               return\n",
       "NoDur        0.902833\n",
       "Durbl        0.733333\n",
       "Manuf        1.012833\n",
       "Enrgy        1.231167\n",
       "HiTec        0.766250\n",
       "Telcm        0.881417\n",
       "Shops        0.916333\n",
       "Hlth         0.783833\n",
       "Utils        0.907167\n",
       "Other        0.489083\n",
       "M_Portfolio  0.748083"
      ]
     },
     "execution_count": 17,
     "metadata": {},
     "output_type": "execute_result"
    }
   ],
   "source": [
    "Industry_Portfolio_Data_Mean"
   ]
  },
  {
   "cell_type": "code",
   "execution_count": 18,
   "id": "5e8ca4dc",
   "metadata": {
    "scrolled": false
   },
   "outputs": [],
   "source": [
    "combined_beta_alpha_slope = combined_beta_alpha.loc['slope']\n",
    "\n",
    "combined_beta_alpha_slope['M_Portfolio'] = 1\n",
    "\n",
    "combined_beta_alpha_slope = pd.DataFrame(combined_beta_alpha_slope)"
   ]
  },
  {
   "cell_type": "code",
   "execution_count": 19,
   "id": "7d848d54",
   "metadata": {},
   "outputs": [
    {
     "data": {
      "text/html": [
       "<div>\n",
       "<style scoped>\n",
       "    .dataframe tbody tr th:only-of-type {\n",
       "        vertical-align: middle;\n",
       "    }\n",
       "\n",
       "    .dataframe tbody tr th {\n",
       "        vertical-align: top;\n",
       "    }\n",
       "\n",
       "    .dataframe thead th {\n",
       "        text-align: right;\n",
       "    }\n",
       "</style>\n",
       "<table border=\"1\" class=\"dataframe\">\n",
       "  <thead>\n",
       "    <tr style=\"text-align: right;\">\n",
       "      <th></th>\n",
       "      <th>slope</th>\n",
       "    </tr>\n",
       "  </thead>\n",
       "  <tbody>\n",
       "    <tr>\n",
       "      <th>NoDur</th>\n",
       "      <td>0.652647</td>\n",
       "    </tr>\n",
       "    <tr>\n",
       "      <th>Durbl</th>\n",
       "      <td>1.648536</td>\n",
       "    </tr>\n",
       "    <tr>\n",
       "      <th>Manuf</th>\n",
       "      <td>1.169846</td>\n",
       "    </tr>\n",
       "    <tr>\n",
       "      <th>Enrgy</th>\n",
       "      <td>0.969850</td>\n",
       "    </tr>\n",
       "    <tr>\n",
       "      <th>HiTec</th>\n",
       "      <td>1.132969</td>\n",
       "    </tr>\n",
       "    <tr>\n",
       "      <th>Telcm</th>\n",
       "      <td>0.900729</td>\n",
       "    </tr>\n",
       "    <tr>\n",
       "      <th>Shops</th>\n",
       "      <td>0.826492</td>\n",
       "    </tr>\n",
       "    <tr>\n",
       "      <th>Hlth</th>\n",
       "      <td>0.673036</td>\n",
       "    </tr>\n",
       "    <tr>\n",
       "      <th>Utils</th>\n",
       "      <td>0.538086</td>\n",
       "    </tr>\n",
       "    <tr>\n",
       "      <th>Other</th>\n",
       "      <td>1.207309</td>\n",
       "    </tr>\n",
       "    <tr>\n",
       "      <th>M_Portfolio</th>\n",
       "      <td>1.000000</td>\n",
       "    </tr>\n",
       "  </tbody>\n",
       "</table>\n",
       "</div>"
      ],
      "text/plain": [
       "                slope\n",
       "NoDur        0.652647\n",
       "Durbl        1.648536\n",
       "Manuf        1.169846\n",
       "Enrgy        0.969850\n",
       "HiTec        1.132969\n",
       "Telcm        0.900729\n",
       "Shops        0.826492\n",
       "Hlth         0.673036\n",
       "Utils        0.538086\n",
       "Other        1.207309\n",
       "M_Portfolio  1.000000"
      ]
     },
     "execution_count": 19,
     "metadata": {},
     "output_type": "execute_result"
    }
   ],
   "source": [
    "combined_beta_alpha_slope"
   ]
  },
  {
   "cell_type": "code",
   "execution_count": 20,
   "id": "258c6640",
   "metadata": {},
   "outputs": [
    {
     "data": {
      "text/html": [
       "<div>\n",
       "<style scoped>\n",
       "    .dataframe tbody tr th:only-of-type {\n",
       "        vertical-align: middle;\n",
       "    }\n",
       "\n",
       "    .dataframe tbody tr th {\n",
       "        vertical-align: top;\n",
       "    }\n",
       "\n",
       "    .dataframe thead th {\n",
       "        text-align: right;\n",
       "    }\n",
       "</style>\n",
       "<table border=\"1\" class=\"dataframe\">\n",
       "  <thead>\n",
       "    <tr style=\"text-align: right;\">\n",
       "      <th></th>\n",
       "      <th>return</th>\n",
       "      <th>slope</th>\n",
       "    </tr>\n",
       "  </thead>\n",
       "  <tbody>\n",
       "    <tr>\n",
       "      <th>NoDur</th>\n",
       "      <td>0.902833</td>\n",
       "      <td>0.652647</td>\n",
       "    </tr>\n",
       "    <tr>\n",
       "      <th>Durbl</th>\n",
       "      <td>0.733333</td>\n",
       "      <td>1.648536</td>\n",
       "    </tr>\n",
       "    <tr>\n",
       "      <th>Manuf</th>\n",
       "      <td>1.012833</td>\n",
       "      <td>1.169846</td>\n",
       "    </tr>\n",
       "    <tr>\n",
       "      <th>Enrgy</th>\n",
       "      <td>1.231167</td>\n",
       "      <td>0.969850</td>\n",
       "    </tr>\n",
       "    <tr>\n",
       "      <th>HiTec</th>\n",
       "      <td>0.766250</td>\n",
       "      <td>1.132969</td>\n",
       "    </tr>\n",
       "    <tr>\n",
       "      <th>Telcm</th>\n",
       "      <td>0.881417</td>\n",
       "      <td>0.900729</td>\n",
       "    </tr>\n",
       "    <tr>\n",
       "      <th>Shops</th>\n",
       "      <td>0.916333</td>\n",
       "      <td>0.826492</td>\n",
       "    </tr>\n",
       "    <tr>\n",
       "      <th>Hlth</th>\n",
       "      <td>0.783833</td>\n",
       "      <td>0.673036</td>\n",
       "    </tr>\n",
       "    <tr>\n",
       "      <th>Utils</th>\n",
       "      <td>0.907167</td>\n",
       "      <td>0.538086</td>\n",
       "    </tr>\n",
       "    <tr>\n",
       "      <th>Other</th>\n",
       "      <td>0.489083</td>\n",
       "      <td>1.207309</td>\n",
       "    </tr>\n",
       "    <tr>\n",
       "      <th>M_Portfolio</th>\n",
       "      <td>0.748083</td>\n",
       "      <td>1.000000</td>\n",
       "    </tr>\n",
       "  </tbody>\n",
       "</table>\n",
       "</div>"
      ],
      "text/plain": [
       "               return     slope\n",
       "NoDur        0.902833  0.652647\n",
       "Durbl        0.733333  1.648536\n",
       "Manuf        1.012833  1.169846\n",
       "Enrgy        1.231167  0.969850\n",
       "HiTec        0.766250  1.132969\n",
       "Telcm        0.881417  0.900729\n",
       "Shops        0.916333  0.826492\n",
       "Hlth         0.783833  0.673036\n",
       "Utils        0.907167  0.538086\n",
       "Other        0.489083  1.207309\n",
       "M_Portfolio  0.748083  1.000000"
      ]
     },
     "execution_count": 20,
     "metadata": {},
     "output_type": "execute_result"
    }
   ],
   "source": [
    "combined_return_slope = pd.concat([Industry_Portfolio_Data_Mean,combined_beta_alpha_slope],axis =1)\n",
    "\n",
    "combined_return_slope "
   ]
  },
  {
   "cell_type": "code",
   "execution_count": 21,
   "id": "a7f180e8",
   "metadata": {},
   "outputs": [
    {
     "data": {
      "text/plain": [
       "(-0.18546745836573264, 1.0327683682657056)"
      ]
     },
     "execution_count": 21,
     "metadata": {},
     "output_type": "execute_result"
    }
   ],
   "source": [
    "slope,intercept = stats.linregress(combined_return_slope['slope'],combined_return_slope['return'])[0:2]\n",
    "slope,intercept"
   ]
  },
  {
   "cell_type": "markdown",
   "id": "3bd148af",
   "metadata": {},
   "source": [
    "# 2.3 Use the estimated intercept and slope coefficients for the SML to plot the SML in the range of β from zero to two on the horizontal axis. Also plot the positions of the ten industry portfolios and the market portfolio."
   ]
  },
  {
   "cell_type": "code",
   "execution_count": 24,
   "id": "c14b7b21",
   "metadata": {},
   "outputs": [
    {
     "data": {
      "image/png": "[encoded data removed]",
      "text/plain": [
       "<Figure size 1080x432 with 1 Axes>"
      ]
     },
     "metadata": {},
     "output_type": "display_data"
    }
   ],
   "source": [
    "def linear_func(x):\n",
    "    return slope * x + intercept\n",
    "\n",
    "plt.figure(figsize = (15,6))\n",
    "\n",
    "x = np.linspace(0,2)\n",
    "\n",
    "plt.xlim((0,2))\n",
    "\n",
    "plt.grid()\n",
    "\n",
    "plt.plot(x, linear_func(x) , color = 'k')\n",
    "\n",
    "plt.scatter(combined_return_slope['slope'],combined_return_slope['return'], color = 'r')\n",
    "\n",
    "# name = ['NoDur', 'Durbl', 'Manuf', 'Enrgy', 'HiTec', 'Telcm', 'Shops', 'Hlth',\n",
    "#        'Utils', 'Other', 'M_Portfolio']\n",
    "\n",
    "# slope_data = [0.65264736, 1.64853565, 1.1698463 , 0.96984996, 1.13296944,\n",
    "#        0.90072925, 0.8264924 , 0.6730357 , 0.5380861 , 1.20730946,\n",
    "#        1.]\n",
    "\n",
    "# return_data = [0.90283333, 0.73333333, 1.01283333, 1.23116667, 0.76625,\n",
    "#        0.88141667, 0.91633333, 0.78383333, 0.90716667, 0.48908333,\n",
    "#        0.74808333]\n",
    "\n",
    "# for i in range (len(slope_data)):\n",
    "#     plt.annotate(name[i], xy = (slope_data[i],return_data[i]), \n",
    "#                  xytext = (slope_data[i]+0.01,return_data[i]+0.01), color = 'r', fontsize = 13, alpha = 0.6)\n",
    "plt.show()"
   ]
  },
  {
   "cell_type": "markdown",
   "id": "01227d8b",
   "metadata": {},
   "source": [
    "# 2.4 Briefly explain the economic significance of the SML."
   ]
  },
  {
   "cell_type": "markdown",
   "id": "dca4a7bb",
   "metadata": {},
   "source": [
    "### Security Market Line is a graphical representation of the CAMP model. It shows how the returns of the assets or portfolios reacts to the market risk which represented by Beta. \n",
    "\n",
    "### The assets falling below the SML means the asset or portflio is over-valued and investors should sell the asset or portfolio. In turn, the price of the asset or portfolio will drop and the return becomes higher until it is back to the SML. \n",
    "\n",
    "### The assets lying above the SML means the asset or portfolio is under-valued and investors should buy the asset or portfolio. In turn, the asset or portfolio will fall down until it reaches SML."
   ]
  },
  {
   "cell_type": "code",
   "execution_count": null,
   "id": "691557fb",
   "metadata": {},
   "outputs": [],
   "source": []
  },
  {
   "cell_type": "code",
   "execution_count": null,
   "id": "f38575b1",
   "metadata": {},
   "outputs": [],
   "source": []
  },
  {
   "cell_type": "code",
   "execution_count": null,
   "id": "215068b5",
   "metadata": {},
   "outputs": [],
   "source": []
  },
  {
   "cell_type": "code",
   "execution_count": null,
   "id": "185c67c5",
   "metadata": {},
   "outputs": [],
   "source": []
  },
  {
   "cell_type": "code",
   "execution_count": null,
   "id": "59a2904f",
   "metadata": {},
   "outputs": [],
   "source": []
  }
 ],
 "metadata": {
  "kernelspec": {
   "display_name": "Python 3 (ipykernel)",
   "language": "python",
   "name": "python3"
  },
  "language_info": {
   "codemirror_mode": {
    "name": "ipython",
    "version": 3
   },
   "file_extension": ".py",
   "mimetype": "text/x-python",
   "name": "python",
   "nbconvert_exporter": "python",
   "pygments_lexer": "ipython3",
   "version": "3.9.12"
  }
 },
 "nbformat": 4,
 "nbformat_minor": 5
}
