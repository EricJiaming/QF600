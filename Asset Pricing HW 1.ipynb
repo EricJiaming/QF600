{
 "cells": [
  {
   "cell_type": "code",
   "execution_count": 1,
   "id": "9c55a997",
   "metadata": {},
   "outputs": [],
   "source": [
    "import numpy as np\n",
    "\n",
    "import pandas as pd\n",
    "\n",
    "import matplotlib.pyplot as plt"
   ]
  },
  {
   "cell_type": "code",
   "execution_count": 2,
   "id": "bd99985d",
   "metadata": {
    "scrolled": false
   },
   "outputs": [
    {
     "name": "stderr",
     "output_type": "stream",
     "text": [
      "/Users/jiaminglv/opt/anaconda3/lib/python3.9/site-packages/openpyxl/worksheet/_reader.py:312: UserWarning: Unknown extension is not supported and will be removed\n",
      "  warn(msg)\n"
     ]
    }
   ],
   "source": [
    "Industry = pd.read_excel('Industry_Portfolios.xlsx')"
   ]
  },
  {
   "cell_type": "code",
   "execution_count": 3,
   "id": "4352fe24",
   "metadata": {
    "scrolled": true
   },
   "outputs": [
    {
     "data": {
      "text/html": [
       "<div>\n",
       "<style scoped>\n",
       "    .dataframe tbody tr th:only-of-type {\n",
       "        vertical-align: middle;\n",
       "    }\n",
       "\n",
       "    .dataframe tbody tr th {\n",
       "        vertical-align: top;\n",
       "    }\n",
       "\n",
       "    .dataframe thead th {\n",
       "        text-align: right;\n",
       "    }\n",
       "</style>\n",
       "<table border=\"1\" class=\"dataframe\">\n",
       "  <thead>\n",
       "    <tr style=\"text-align: right;\">\n",
       "      <th></th>\n",
       "      <th>Date</th>\n",
       "      <th>NoDur</th>\n",
       "      <th>Durbl</th>\n",
       "      <th>Manuf</th>\n",
       "      <th>Enrgy</th>\n",
       "      <th>HiTec</th>\n",
       "      <th>Telcm</th>\n",
       "      <th>Shops</th>\n",
       "      <th>Hlth</th>\n",
       "      <th>Utils</th>\n",
       "      <th>Other</th>\n",
       "    </tr>\n",
       "  </thead>\n",
       "  <tbody>\n",
       "    <tr>\n",
       "      <th>0</th>\n",
       "      <td>200401</td>\n",
       "      <td>0.06</td>\n",
       "      <td>-1.07</td>\n",
       "      <td>-0.62</td>\n",
       "      <td>0.44</td>\n",
       "      <td>4.53</td>\n",
       "      <td>1.41</td>\n",
       "      <td>0.45</td>\n",
       "      <td>3.09</td>\n",
       "      <td>1.92</td>\n",
       "      <td>2.88</td>\n",
       "    </tr>\n",
       "    <tr>\n",
       "      <th>1</th>\n",
       "      <td>200402</td>\n",
       "      <td>4.25</td>\n",
       "      <td>-0.07</td>\n",
       "      <td>1.95</td>\n",
       "      <td>4.69</td>\n",
       "      <td>-2.92</td>\n",
       "      <td>-0.52</td>\n",
       "      <td>6.09</td>\n",
       "      <td>0.89</td>\n",
       "      <td>2.07</td>\n",
       "      <td>2.16</td>\n",
       "    </tr>\n",
       "    <tr>\n",
       "      <th>2</th>\n",
       "      <td>200403</td>\n",
       "      <td>-0.09</td>\n",
       "      <td>-1.15</td>\n",
       "      <td>-0.27</td>\n",
       "      <td>-0.13</td>\n",
       "      <td>-2.55</td>\n",
       "      <td>-2.07</td>\n",
       "      <td>0.29</td>\n",
       "      <td>-3.96</td>\n",
       "      <td>1.13</td>\n",
       "      <td>-0.63</td>\n",
       "    </tr>\n",
       "    <tr>\n",
       "      <th>3</th>\n",
       "      <td>200404</td>\n",
       "      <td>1.42</td>\n",
       "      <td>2.30</td>\n",
       "      <td>-0.17</td>\n",
       "      <td>2.52</td>\n",
       "      <td>-4.91</td>\n",
       "      <td>-0.48</td>\n",
       "      <td>-2.70</td>\n",
       "      <td>3.54</td>\n",
       "      <td>-3.55</td>\n",
       "      <td>-3.76</td>\n",
       "    </tr>\n",
       "    <tr>\n",
       "      <th>4</th>\n",
       "      <td>200405</td>\n",
       "      <td>-1.89</td>\n",
       "      <td>-1.64</td>\n",
       "      <td>1.61</td>\n",
       "      <td>0.39</td>\n",
       "      <td>4.85</td>\n",
       "      <td>-2.95</td>\n",
       "      <td>0.30</td>\n",
       "      <td>-0.42</td>\n",
       "      <td>1.28</td>\n",
       "      <td>1.86</td>\n",
       "    </tr>\n",
       "  </tbody>\n",
       "</table>\n",
       "</div>"
      ],
      "text/plain": [
       "     Date  NoDur  Durbl  Manuf  Enrgy  HiTec  Telcm  Shops  Hlth  Utils  Other\n",
       "0  200401   0.06  -1.07  -0.62   0.44   4.53   1.41   0.45  3.09   1.92   2.88\n",
       "1  200402   4.25  -0.07   1.95   4.69  -2.92  -0.52   6.09  0.89   2.07   2.16\n",
       "2  200403  -0.09  -1.15  -0.27  -0.13  -2.55  -2.07   0.29 -3.96   1.13  -0.63\n",
       "3  200404   1.42   2.30  -0.17   2.52  -4.91  -0.48  -2.70  3.54  -3.55  -3.76\n",
       "4  200405  -1.89  -1.64   1.61   0.39   4.85  -2.95   0.30 -0.42   1.28   1.86"
      ]
     },
     "execution_count": 3,
     "metadata": {},
     "output_type": "execute_result"
    }
   ],
   "source": [
    "Industry.head()"
   ]
  },
  {
   "cell_type": "code",
   "execution_count": 4,
   "id": "2e05cb9f",
   "metadata": {
    "scrolled": false
   },
   "outputs": [
    {
     "data": {
      "text/html": [
       "<div>\n",
       "<style scoped>\n",
       "    .dataframe tbody tr th:only-of-type {\n",
       "        vertical-align: middle;\n",
       "    }\n",
       "\n",
       "    .dataframe tbody tr th {\n",
       "        vertical-align: top;\n",
       "    }\n",
       "\n",
       "    .dataframe thead th {\n",
       "        text-align: right;\n",
       "    }\n",
       "</style>\n",
       "<table border=\"1\" class=\"dataframe\">\n",
       "  <thead>\n",
       "    <tr style=\"text-align: right;\">\n",
       "      <th></th>\n",
       "      <th>NoDur</th>\n",
       "      <th>Durbl</th>\n",
       "      <th>Manuf</th>\n",
       "      <th>Enrgy</th>\n",
       "      <th>HiTec</th>\n",
       "      <th>Telcm</th>\n",
       "      <th>Shops</th>\n",
       "      <th>Hlth</th>\n",
       "      <th>Utils</th>\n",
       "      <th>Other</th>\n",
       "    </tr>\n",
       "  </thead>\n",
       "  <tbody>\n",
       "    <tr>\n",
       "      <th>0</th>\n",
       "      <td>0.06</td>\n",
       "      <td>-1.07</td>\n",
       "      <td>-0.62</td>\n",
       "      <td>0.44</td>\n",
       "      <td>4.53</td>\n",
       "      <td>1.41</td>\n",
       "      <td>0.45</td>\n",
       "      <td>3.09</td>\n",
       "      <td>1.92</td>\n",
       "      <td>2.88</td>\n",
       "    </tr>\n",
       "    <tr>\n",
       "      <th>1</th>\n",
       "      <td>4.25</td>\n",
       "      <td>-0.07</td>\n",
       "      <td>1.95</td>\n",
       "      <td>4.69</td>\n",
       "      <td>-2.92</td>\n",
       "      <td>-0.52</td>\n",
       "      <td>6.09</td>\n",
       "      <td>0.89</td>\n",
       "      <td>2.07</td>\n",
       "      <td>2.16</td>\n",
       "    </tr>\n",
       "    <tr>\n",
       "      <th>2</th>\n",
       "      <td>-0.09</td>\n",
       "      <td>-1.15</td>\n",
       "      <td>-0.27</td>\n",
       "      <td>-0.13</td>\n",
       "      <td>-2.55</td>\n",
       "      <td>-2.07</td>\n",
       "      <td>0.29</td>\n",
       "      <td>-3.96</td>\n",
       "      <td>1.13</td>\n",
       "      <td>-0.63</td>\n",
       "    </tr>\n",
       "    <tr>\n",
       "      <th>3</th>\n",
       "      <td>1.42</td>\n",
       "      <td>2.30</td>\n",
       "      <td>-0.17</td>\n",
       "      <td>2.52</td>\n",
       "      <td>-4.91</td>\n",
       "      <td>-0.48</td>\n",
       "      <td>-2.70</td>\n",
       "      <td>3.54</td>\n",
       "      <td>-3.55</td>\n",
       "      <td>-3.76</td>\n",
       "    </tr>\n",
       "    <tr>\n",
       "      <th>4</th>\n",
       "      <td>-1.89</td>\n",
       "      <td>-1.64</td>\n",
       "      <td>1.61</td>\n",
       "      <td>0.39</td>\n",
       "      <td>4.85</td>\n",
       "      <td>-2.95</td>\n",
       "      <td>0.30</td>\n",
       "      <td>-0.42</td>\n",
       "      <td>1.28</td>\n",
       "      <td>1.86</td>\n",
       "    </tr>\n",
       "    <tr>\n",
       "      <th>...</th>\n",
       "      <td>...</td>\n",
       "      <td>...</td>\n",
       "      <td>...</td>\n",
       "      <td>...</td>\n",
       "      <td>...</td>\n",
       "      <td>...</td>\n",
       "      <td>...</td>\n",
       "      <td>...</td>\n",
       "      <td>...</td>\n",
       "      <td>...</td>\n",
       "    </tr>\n",
       "    <tr>\n",
       "      <th>115</th>\n",
       "      <td>-4.00</td>\n",
       "      <td>-1.00</td>\n",
       "      <td>-1.95</td>\n",
       "      <td>-1.83</td>\n",
       "      <td>-0.12</td>\n",
       "      <td>-3.28</td>\n",
       "      <td>-4.21</td>\n",
       "      <td>-3.49</td>\n",
       "      <td>-4.43</td>\n",
       "      <td>-3.66</td>\n",
       "    </tr>\n",
       "    <tr>\n",
       "      <th>116</th>\n",
       "      <td>1.94</td>\n",
       "      <td>6.46</td>\n",
       "      <td>5.20</td>\n",
       "      <td>2.03</td>\n",
       "      <td>3.77</td>\n",
       "      <td>4.33</td>\n",
       "      <td>4.46</td>\n",
       "      <td>4.19</td>\n",
       "      <td>1.05</td>\n",
       "      <td>3.83</td>\n",
       "    </tr>\n",
       "    <tr>\n",
       "      <th>117</th>\n",
       "      <td>4.75</td>\n",
       "      <td>0.72</td>\n",
       "      <td>4.56</td>\n",
       "      <td>4.86</td>\n",
       "      <td>3.80</td>\n",
       "      <td>5.52</td>\n",
       "      <td>5.08</td>\n",
       "      <td>3.47</td>\n",
       "      <td>3.35</td>\n",
       "      <td>3.87</td>\n",
       "    </tr>\n",
       "    <tr>\n",
       "      <th>118</th>\n",
       "      <td>1.29</td>\n",
       "      <td>1.81</td>\n",
       "      <td>2.95</td>\n",
       "      <td>0.85</td>\n",
       "      <td>3.65</td>\n",
       "      <td>0.27</td>\n",
       "      <td>3.67</td>\n",
       "      <td>4.54</td>\n",
       "      <td>-1.81</td>\n",
       "      <td>4.74</td>\n",
       "    </tr>\n",
       "    <tr>\n",
       "      <th>119</th>\n",
       "      <td>2.65</td>\n",
       "      <td>1.18</td>\n",
       "      <td>3.13</td>\n",
       "      <td>2.95</td>\n",
       "      <td>4.04</td>\n",
       "      <td>3.96</td>\n",
       "      <td>0.20</td>\n",
       "      <td>0.71</td>\n",
       "      <td>1.79</td>\n",
       "      <td>3.11</td>\n",
       "    </tr>\n",
       "  </tbody>\n",
       "</table>\n",
       "<p>120 rows × 10 columns</p>\n",
       "</div>"
      ],
      "text/plain": [
       "     NoDur  Durbl  Manuf  Enrgy  HiTec  Telcm  Shops  Hlth  Utils  Other\n",
       "0     0.06  -1.07  -0.62   0.44   4.53   1.41   0.45  3.09   1.92   2.88\n",
       "1     4.25  -0.07   1.95   4.69  -2.92  -0.52   6.09  0.89   2.07   2.16\n",
       "2    -0.09  -1.15  -0.27  -0.13  -2.55  -2.07   0.29 -3.96   1.13  -0.63\n",
       "3     1.42   2.30  -0.17   2.52  -4.91  -0.48  -2.70  3.54  -3.55  -3.76\n",
       "4    -1.89  -1.64   1.61   0.39   4.85  -2.95   0.30 -0.42   1.28   1.86\n",
       "..     ...    ...    ...    ...    ...    ...    ...   ...    ...    ...\n",
       "115  -4.00  -1.00  -1.95  -1.83  -0.12  -3.28  -4.21 -3.49  -4.43  -3.66\n",
       "116   1.94   6.46   5.20   2.03   3.77   4.33   4.46  4.19   1.05   3.83\n",
       "117   4.75   0.72   4.56   4.86   3.80   5.52   5.08  3.47   3.35   3.87\n",
       "118   1.29   1.81   2.95   0.85   3.65   0.27   3.67  4.54  -1.81   4.74\n",
       "119   2.65   1.18   3.13   2.95   4.04   3.96   0.20  0.71   1.79   3.11\n",
       "\n",
       "[120 rows x 10 columns]"
      ]
     },
     "execution_count": 4,
     "metadata": {},
     "output_type": "execute_result"
    }
   ],
   "source": [
    "Industry_data = Industry.drop(['Date'], axis = 1)\n",
    "\n",
    "Industry_data"
   ]
  },
  {
   "cell_type": "code",
   "execution_count": 5,
   "id": "5279676b",
   "metadata": {},
   "outputs": [
    {
     "data": {
      "text/html": [
       "<div>\n",
       "<style scoped>\n",
       "    .dataframe tbody tr th:only-of-type {\n",
       "        vertical-align: middle;\n",
       "    }\n",
       "\n",
       "    .dataframe tbody tr th {\n",
       "        vertical-align: top;\n",
       "    }\n",
       "\n",
       "    .dataframe thead th {\n",
       "        text-align: right;\n",
       "    }\n",
       "</style>\n",
       "<table border=\"1\" class=\"dataframe\">\n",
       "  <thead>\n",
       "    <tr style=\"text-align: right;\">\n",
       "      <th></th>\n",
       "      <th>0</th>\n",
       "    </tr>\n",
       "  </thead>\n",
       "  <tbody>\n",
       "    <tr>\n",
       "      <th>NoDur</th>\n",
       "      <td>0.902833</td>\n",
       "    </tr>\n",
       "    <tr>\n",
       "      <th>Durbl</th>\n",
       "      <td>0.733333</td>\n",
       "    </tr>\n",
       "    <tr>\n",
       "      <th>Manuf</th>\n",
       "      <td>1.012833</td>\n",
       "    </tr>\n",
       "    <tr>\n",
       "      <th>Enrgy</th>\n",
       "      <td>1.231167</td>\n",
       "    </tr>\n",
       "    <tr>\n",
       "      <th>HiTec</th>\n",
       "      <td>0.766250</td>\n",
       "    </tr>\n",
       "    <tr>\n",
       "      <th>Telcm</th>\n",
       "      <td>0.881417</td>\n",
       "    </tr>\n",
       "    <tr>\n",
       "      <th>Shops</th>\n",
       "      <td>0.916333</td>\n",
       "    </tr>\n",
       "    <tr>\n",
       "      <th>Hlth</th>\n",
       "      <td>0.783833</td>\n",
       "    </tr>\n",
       "    <tr>\n",
       "      <th>Utils</th>\n",
       "      <td>0.907167</td>\n",
       "    </tr>\n",
       "    <tr>\n",
       "      <th>Other</th>\n",
       "      <td>0.489083</td>\n",
       "    </tr>\n",
       "  </tbody>\n",
       "</table>\n",
       "</div>"
      ],
      "text/plain": [
       "              0\n",
       "NoDur  0.902833\n",
       "Durbl  0.733333\n",
       "Manuf  1.012833\n",
       "Enrgy  1.231167\n",
       "HiTec  0.766250\n",
       "Telcm  0.881417\n",
       "Shops  0.916333\n",
       "Hlth   0.783833\n",
       "Utils  0.907167\n",
       "Other  0.489083"
      ]
     },
     "execution_count": 5,
     "metadata": {},
     "output_type": "execute_result"
    }
   ],
   "source": [
    "R_Mean = pd.DataFrame(Industry_data.mean(axis = 0))\n",
    "\n",
    "R_Mean"
   ]
  },
  {
   "cell_type": "code",
   "execution_count": 6,
   "id": "876465b6",
   "metadata": {},
   "outputs": [
    {
     "data": {
      "text/html": [
       "<div>\n",
       "<style scoped>\n",
       "    .dataframe tbody tr th:only-of-type {\n",
       "        vertical-align: middle;\n",
       "    }\n",
       "\n",
       "    .dataframe tbody tr th {\n",
       "        vertical-align: top;\n",
       "    }\n",
       "\n",
       "    .dataframe thead th {\n",
       "        text-align: right;\n",
       "    }\n",
       "</style>\n",
       "<table border=\"1\" class=\"dataframe\">\n",
       "  <thead>\n",
       "    <tr style=\"text-align: right;\">\n",
       "      <th></th>\n",
       "      <th>NoDur</th>\n",
       "      <th>Durbl</th>\n",
       "      <th>Manuf</th>\n",
       "      <th>Enrgy</th>\n",
       "      <th>HiTec</th>\n",
       "      <th>Telcm</th>\n",
       "      <th>Shops</th>\n",
       "      <th>Hlth</th>\n",
       "      <th>Utils</th>\n",
       "      <th>Other</th>\n",
       "    </tr>\n",
       "  </thead>\n",
       "  <tbody>\n",
       "    <tr>\n",
       "      <th>NoDur</th>\n",
       "      <td>11.193422</td>\n",
       "      <td>18.449666</td>\n",
       "      <td>14.104907</td>\n",
       "      <td>10.531341</td>\n",
       "      <td>12.922949</td>\n",
       "      <td>11.968078</td>\n",
       "      <td>10.170832</td>\n",
       "      <td>9.953112</td>\n",
       "      <td>7.866653</td>\n",
       "      <td>14.438409</td>\n",
       "    </tr>\n",
       "    <tr>\n",
       "      <th>Durbl</th>\n",
       "      <td>18.449666</td>\n",
       "      <td>69.920577</td>\n",
       "      <td>39.178097</td>\n",
       "      <td>27.019794</td>\n",
       "      <td>35.466652</td>\n",
       "      <td>27.490543</td>\n",
       "      <td>27.444731</td>\n",
       "      <td>16.824003</td>\n",
       "      <td>12.746136</td>\n",
       "      <td>39.361987</td>\n",
       "    </tr>\n",
       "    <tr>\n",
       "      <th>Manuf</th>\n",
       "      <td>14.104907</td>\n",
       "      <td>39.178097</td>\n",
       "      <td>28.198970</td>\n",
       "      <td>23.145380</td>\n",
       "      <td>24.618739</td>\n",
       "      <td>19.550150</td>\n",
       "      <td>17.622867</td>\n",
       "      <td>13.596447</td>\n",
       "      <td>11.440612</td>\n",
       "      <td>26.313423</td>\n",
       "    </tr>\n",
       "    <tr>\n",
       "      <th>Enrgy</th>\n",
       "      <td>10.531341</td>\n",
       "      <td>27.019794</td>\n",
       "      <td>23.145380</td>\n",
       "      <td>36.984933</td>\n",
       "      <td>19.267276</td>\n",
       "      <td>15.366817</td>\n",
       "      <td>11.297800</td>\n",
       "      <td>9.630327</td>\n",
       "      <td>14.027168</td>\n",
       "      <td>18.320469</td>\n",
       "    </tr>\n",
       "    <tr>\n",
       "      <th>HiTec</th>\n",
       "      <td>12.922949</td>\n",
       "      <td>35.466652</td>\n",
       "      <td>24.618739</td>\n",
       "      <td>19.267276</td>\n",
       "      <td>28.957220</td>\n",
       "      <td>18.708273</td>\n",
       "      <td>17.837115</td>\n",
       "      <td>13.254064</td>\n",
       "      <td>10.304187</td>\n",
       "      <td>23.855470</td>\n",
       "    </tr>\n",
       "    <tr>\n",
       "      <th>Telcm</th>\n",
       "      <td>11.968078</td>\n",
       "      <td>27.490543</td>\n",
       "      <td>19.550150</td>\n",
       "      <td>15.366817</td>\n",
       "      <td>18.708273</td>\n",
       "      <td>19.787227</td>\n",
       "      <td>14.169356</td>\n",
       "      <td>11.506599</td>\n",
       "      <td>10.991596</td>\n",
       "      <td>19.610836</td>\n",
       "    </tr>\n",
       "    <tr>\n",
       "      <th>Shops</th>\n",
       "      <td>10.170832</td>\n",
       "      <td>27.444731</td>\n",
       "      <td>17.622867</td>\n",
       "      <td>11.297800</td>\n",
       "      <td>17.837115</td>\n",
       "      <td>14.169356</td>\n",
       "      <td>16.759084</td>\n",
       "      <td>10.178849</td>\n",
       "      <td>6.694350</td>\n",
       "      <td>19.226524</td>\n",
       "    </tr>\n",
       "    <tr>\n",
       "      <th>Hlth</th>\n",
       "      <td>9.953112</td>\n",
       "      <td>16.824003</td>\n",
       "      <td>13.596447</td>\n",
       "      <td>9.630327</td>\n",
       "      <td>13.254064</td>\n",
       "      <td>11.506599</td>\n",
       "      <td>10.178849</td>\n",
       "      <td>14.342669</td>\n",
       "      <td>7.475036</td>\n",
       "      <td>14.864553</td>\n",
       "    </tr>\n",
       "    <tr>\n",
       "      <th>Utils</th>\n",
       "      <td>7.866653</td>\n",
       "      <td>12.746136</td>\n",
       "      <td>11.440612</td>\n",
       "      <td>14.027168</td>\n",
       "      <td>10.304187</td>\n",
       "      <td>10.991596</td>\n",
       "      <td>6.694350</td>\n",
       "      <td>7.475036</td>\n",
       "      <td>13.703052</td>\n",
       "      <td>9.992960</td>\n",
       "    </tr>\n",
       "    <tr>\n",
       "      <th>Other</th>\n",
       "      <td>14.438409</td>\n",
       "      <td>39.361987</td>\n",
       "      <td>26.313423</td>\n",
       "      <td>18.320469</td>\n",
       "      <td>23.855470</td>\n",
       "      <td>19.610836</td>\n",
       "      <td>19.226524</td>\n",
       "      <td>14.864553</td>\n",
       "      <td>9.992960</td>\n",
       "      <td>31.163771</td>\n",
       "    </tr>\n",
       "  </tbody>\n",
       "</table>\n",
       "</div>"
      ],
      "text/plain": [
       "           NoDur      Durbl      Manuf      Enrgy      HiTec      Telcm  \\\n",
       "NoDur  11.193422  18.449666  14.104907  10.531341  12.922949  11.968078   \n",
       "Durbl  18.449666  69.920577  39.178097  27.019794  35.466652  27.490543   \n",
       "Manuf  14.104907  39.178097  28.198970  23.145380  24.618739  19.550150   \n",
       "Enrgy  10.531341  27.019794  23.145380  36.984933  19.267276  15.366817   \n",
       "HiTec  12.922949  35.466652  24.618739  19.267276  28.957220  18.708273   \n",
       "Telcm  11.968078  27.490543  19.550150  15.366817  18.708273  19.787227   \n",
       "Shops  10.170832  27.444731  17.622867  11.297800  17.837115  14.169356   \n",
       "Hlth    9.953112  16.824003  13.596447   9.630327  13.254064  11.506599   \n",
       "Utils   7.866653  12.746136  11.440612  14.027168  10.304187  10.991596   \n",
       "Other  14.438409  39.361987  26.313423  18.320469  23.855470  19.610836   \n",
       "\n",
       "           Shops       Hlth      Utils      Other  \n",
       "NoDur  10.170832   9.953112   7.866653  14.438409  \n",
       "Durbl  27.444731  16.824003  12.746136  39.361987  \n",
       "Manuf  17.622867  13.596447  11.440612  26.313423  \n",
       "Enrgy  11.297800   9.630327  14.027168  18.320469  \n",
       "HiTec  17.837115  13.254064  10.304187  23.855470  \n",
       "Telcm  14.169356  11.506599  10.991596  19.610836  \n",
       "Shops  16.759084  10.178849   6.694350  19.226524  \n",
       "Hlth   10.178849  14.342669   7.475036  14.864553  \n",
       "Utils   6.694350   7.475036  13.703052   9.992960  \n",
       "Other  19.226524  14.864553   9.992960  31.163771  "
      ]
     },
     "execution_count": 6,
     "metadata": {},
     "output_type": "execute_result"
    }
   ],
   "source": [
    "V = Industry_data.cov()\n",
    "\n",
    "V"
   ]
  },
  {
   "cell_type": "code",
   "execution_count": 7,
   "id": "bcec787c",
   "metadata": {},
   "outputs": [
    {
     "data": {
      "text/html": [
       "<div>\n",
       "<style scoped>\n",
       "    .dataframe tbody tr th:only-of-type {\n",
       "        vertical-align: middle;\n",
       "    }\n",
       "\n",
       "    .dataframe tbody tr th {\n",
       "        vertical-align: top;\n",
       "    }\n",
       "\n",
       "    .dataframe thead th {\n",
       "        text-align: right;\n",
       "    }\n",
       "</style>\n",
       "<table border=\"1\" class=\"dataframe\">\n",
       "  <thead>\n",
       "    <tr style=\"text-align: right;\">\n",
       "      <th></th>\n",
       "      <th>NoDur</th>\n",
       "      <th>Durbl</th>\n",
       "      <th>Manuf</th>\n",
       "      <th>Enrgy</th>\n",
       "      <th>HiTec</th>\n",
       "      <th>Telcm</th>\n",
       "      <th>Shops</th>\n",
       "      <th>Hlth</th>\n",
       "      <th>Utils</th>\n",
       "      <th>Other</th>\n",
       "    </tr>\n",
       "  </thead>\n",
       "  <tbody>\n",
       "    <tr>\n",
       "      <th>0</th>\n",
       "      <td>3.345657</td>\n",
       "      <td>8.361852</td>\n",
       "      <td>5.31027</td>\n",
       "      <td>6.081524</td>\n",
       "      <td>5.381191</td>\n",
       "      <td>4.448284</td>\n",
       "      <td>4.093786</td>\n",
       "      <td>3.787172</td>\n",
       "      <td>3.701763</td>\n",
       "      <td>5.582452</td>\n",
       "    </tr>\n",
       "  </tbody>\n",
       "</table>\n",
       "</div>"
      ],
      "text/plain": [
       "      NoDur     Durbl    Manuf     Enrgy     HiTec     Telcm     Shops  \\\n",
       "0  3.345657  8.361852  5.31027  6.081524  5.381191  4.448284  4.093786   \n",
       "\n",
       "       Hlth     Utils     Other  \n",
       "0  3.787172  3.701763  5.582452  "
      ]
     },
     "execution_count": 7,
     "metadata": {},
     "output_type": "execute_result"
    }
   ],
   "source": [
    "Std = pd.DataFrame(Industry_data.std()).T\n",
    "\n",
    "Std"
   ]
  },
  {
   "cell_type": "code",
   "execution_count": 8,
   "id": "c859f5e8",
   "metadata": {
    "scrolled": true
   },
   "outputs": [
    {
     "data": {
      "text/html": [
       "<div>\n",
       "<style scoped>\n",
       "    .dataframe tbody tr th:only-of-type {\n",
       "        vertical-align: middle;\n",
       "    }\n",
       "\n",
       "    .dataframe tbody tr th {\n",
       "        vertical-align: top;\n",
       "    }\n",
       "\n",
       "    .dataframe thead th {\n",
       "        text-align: right;\n",
       "    }\n",
       "</style>\n",
       "<table border=\"1\" class=\"dataframe\">\n",
       "  <thead>\n",
       "    <tr style=\"text-align: right;\">\n",
       "      <th></th>\n",
       "      <th>NoDur</th>\n",
       "      <th>Durbl</th>\n",
       "      <th>Manuf</th>\n",
       "      <th>Enrgy</th>\n",
       "      <th>HiTec</th>\n",
       "      <th>Telcm</th>\n",
       "      <th>Shops</th>\n",
       "      <th>Hlth</th>\n",
       "      <th>Utils</th>\n",
       "      <th>Other</th>\n",
       "    </tr>\n",
       "  </thead>\n",
       "  <tbody>\n",
       "    <tr>\n",
       "      <th>mean</th>\n",
       "      <td>0.902833</td>\n",
       "      <td>0.733333</td>\n",
       "      <td>1.012833</td>\n",
       "      <td>1.231167</td>\n",
       "      <td>0.766250</td>\n",
       "      <td>0.881417</td>\n",
       "      <td>0.916333</td>\n",
       "      <td>0.783833</td>\n",
       "      <td>0.907167</td>\n",
       "      <td>0.489083</td>\n",
       "    </tr>\n",
       "    <tr>\n",
       "      <th>std</th>\n",
       "      <td>3.345657</td>\n",
       "      <td>8.361852</td>\n",
       "      <td>5.310270</td>\n",
       "      <td>6.081524</td>\n",
       "      <td>5.381191</td>\n",
       "      <td>4.448284</td>\n",
       "      <td>4.093786</td>\n",
       "      <td>3.787172</td>\n",
       "      <td>3.701763</td>\n",
       "      <td>5.582452</td>\n",
       "    </tr>\n",
       "  </tbody>\n",
       "</table>\n",
       "</div>"
      ],
      "text/plain": [
       "         NoDur     Durbl     Manuf     Enrgy     HiTec     Telcm     Shops  \\\n",
       "mean  0.902833  0.733333  1.012833  1.231167  0.766250  0.881417  0.916333   \n",
       "std   3.345657  8.361852  5.310270  6.081524  5.381191  4.448284  4.093786   \n",
       "\n",
       "          Hlth     Utils     Other  \n",
       "mean  0.783833  0.907167  0.489083  \n",
       "std   3.787172  3.701763  5.582452  "
      ]
     },
     "execution_count": 8,
     "metadata": {},
     "output_type": "execute_result"
    }
   ],
   "source": [
    "combined_data = pd.concat([R_Mean.T,Std])\n",
    "\n",
    "combined_data = combined_data.reset_index().drop(['index'], axis = 1)\n",
    "\n",
    "combined_data = combined_data.rename(index = {0:'mean',1:'std'})\n",
    "\n",
    "combined_data"
   ]
  },
  {
   "cell_type": "code",
   "execution_count": 10,
   "id": "58bf5594",
   "metadata": {},
   "outputs": [],
   "source": [
    "V_inv = np.linalg.inv(V)\n",
    "\n",
    "R = Industry_data.mean().values.reshape(10,1)\n",
    "\n",
    "e = np.ones(10).reshape(10,1)"
   ]
  },
  {
   "cell_type": "code",
   "execution_count": 28,
   "id": "7cdeef50",
   "metadata": {},
   "outputs": [
    {
     "data": {
      "text/plain": [
       "array([[ 0.42987616,  0.02364299, -0.11228464,  0.02488242,  0.02109433,\n",
       "        -0.06576008, -0.04881808, -0.11787242, -0.06302345, -0.01706207],\n",
       "       [ 0.02364299,  0.09015004, -0.11170494,  0.01575693, -0.00555338,\n",
       "        -0.00938045, -0.03305295,  0.03350381,  0.00998723, -0.02840085],\n",
       "       [-0.11228464, -0.11170494,  0.53145685, -0.1108174 , -0.08616709,\n",
       "        -0.03841071,  0.02407555, -0.02005282,  0.01293586, -0.10978581],\n",
       "       [ 0.02488242,  0.01575693, -0.1108174 ,  0.07924561, -0.00377626,\n",
       "         0.01130945,  0.01490084,  0.01260604, -0.045812  ,  0.01081068],\n",
       "       [ 0.02109433, -0.00555338, -0.08616709, -0.00377626,  0.16225984,\n",
       "        -0.02593953, -0.0651664 , -0.02309265,  0.00097481,  0.01523926],\n",
       "       [-0.06576008, -0.00938045, -0.03841071,  0.01130945, -0.02593953,\n",
       "         0.24932019, -0.04599885, -0.00167346, -0.07979059, -0.01417457],\n",
       "       [-0.04881808, -0.03305295,  0.02407555,  0.01490084, -0.0651664 ,\n",
       "        -0.04599885,  0.2923196 , -0.01206851,  0.02244901, -0.06768095],\n",
       "       [-0.11787242,  0.03350381, -0.02005282,  0.01260604, -0.02309265,\n",
       "        -0.00167346, -0.01206851,  0.21204886, -0.0156185 , -0.04814481],\n",
       "       [-0.06302345,  0.00998723,  0.01293586, -0.045812  ,  0.00097481,\n",
       "        -0.07979059,  0.02244901, -0.0156185 ,  0.18483217,  0.01639026],\n",
       "       [-0.01706207, -0.02840085, -0.10978581,  0.01081068,  0.01523926,\n",
       "        -0.01417457, -0.06768095, -0.04814481,  0.01639026,  0.21892779]])"
      ]
     },
     "execution_count": 28,
     "metadata": {},
     "output_type": "execute_result"
    }
   ],
   "source": [
    "V_inv"
   ]
  },
  {
   "cell_type": "code",
   "execution_count": 11,
   "id": "47e690c3",
   "metadata": {
    "scrolled": false
   },
   "outputs": [
    {
     "data": {
      "text/plain": [
       "(0.1379432386993193, 0.1964085846448232, 0.137387597356712, 1.0040443340832625)"
      ]
     },
     "execution_count": 11,
     "metadata": {},
     "output_type": "execute_result"
    }
   ],
   "source": [
    "α = float(R.T @ V_inv @ e) #(0.13794323869931932)\n",
    "\n",
    "ζ = float(R.T @ V_inv @ R) #  0.19640858464482375\n",
    "\n",
    "δ = float(e.T @ V_inv @ e) # 0.13738759735671185)\n",
    "\n",
    "Rmv = α/δ  # 1.0040443340832637\n",
    "\n",
    "α,ζ,δ,Rmv"
   ]
  },
  {
   "cell_type": "code",
   "execution_count": 12,
   "id": "e69797b8",
   "metadata": {},
   "outputs": [
    {
     "data": {
      "text/plain": [
       "array([0.  , 0.01, 0.02, 0.03, 0.04, 0.05, 0.06, 0.07, 0.08, 0.09, 0.1 ,\n",
       "       0.11, 0.12, 0.13, 0.14, 0.15, 0.16, 0.17, 0.18, 0.19, 0.2 , 0.21,\n",
       "       0.22, 0.23, 0.24, 0.25, 0.26, 0.27, 0.28, 0.29, 0.3 , 0.31, 0.32,\n",
       "       0.33, 0.34, 0.35, 0.36, 0.37, 0.38, 0.39, 0.4 , 0.41, 0.42, 0.43,\n",
       "       0.44, 0.45, 0.46, 0.47, 0.48, 0.49, 0.5 , 0.51, 0.52, 0.53, 0.54,\n",
       "       0.55, 0.56, 0.57, 0.58, 0.59, 0.6 , 0.61, 0.62, 0.63, 0.64, 0.65,\n",
       "       0.66, 0.67, 0.68, 0.69, 0.7 , 0.71, 0.72, 0.73, 0.74, 0.75, 0.76,\n",
       "       0.77, 0.78, 0.79, 0.8 , 0.81, 0.82, 0.83, 0.84, 0.85, 0.86, 0.87,\n",
       "       0.88, 0.89, 0.9 , 0.91, 0.92, 0.93, 0.94, 0.95, 0.96, 0.97, 0.98,\n",
       "       0.99, 1.  , 1.01, 1.02, 1.03, 1.04, 1.05, 1.06, 1.07, 1.08, 1.09,\n",
       "       1.1 , 1.11, 1.12, 1.13, 1.14, 1.15, 1.16, 1.17, 1.18, 1.19, 1.2 ,\n",
       "       1.21, 1.22, 1.23, 1.24, 1.25, 1.26, 1.27, 1.28, 1.29, 1.3 , 1.31,\n",
       "       1.32, 1.33, 1.34, 1.35, 1.36, 1.37, 1.38, 1.39, 1.4 , 1.41, 1.42,\n",
       "       1.43, 1.44, 1.45, 1.46, 1.47, 1.48, 1.49, 1.5 , 1.51, 1.52, 1.53,\n",
       "       1.54, 1.55, 1.56, 1.57, 1.58, 1.59, 1.6 , 1.61, 1.62, 1.63, 1.64,\n",
       "       1.65, 1.66, 1.67, 1.68, 1.69, 1.7 , 1.71, 1.72, 1.73, 1.74, 1.75,\n",
       "       1.76, 1.77, 1.78, 1.79, 1.8 , 1.81, 1.82, 1.83, 1.84, 1.85, 1.86,\n",
       "       1.87, 1.88, 1.89, 1.9 , 1.91, 1.92, 1.93, 1.94, 1.95, 1.96, 1.97,\n",
       "       1.98, 1.99, 2.  ])"
      ]
     },
     "execution_count": 12,
     "metadata": {},
     "output_type": "execute_result"
    }
   ],
   "source": [
    "Rp = np.arange(0.0, 2.001,0.01)\n",
    "\n",
    "Rp"
   ]
  },
  {
   "cell_type": "code",
   "execution_count": 13,
   "id": "a2018a85",
   "metadata": {},
   "outputs": [
    {
     "data": {
      "text/plain": [
       "array([1.  , 1.01, 1.02, 1.03, 1.04, 1.05, 1.06, 1.07, 1.08, 1.09, 1.1 ,\n",
       "       1.11, 1.12, 1.13, 1.14, 1.15, 1.16, 1.17, 1.18, 1.19, 1.2 , 1.21,\n",
       "       1.22, 1.23, 1.24, 1.25, 1.26, 1.27, 1.28, 1.29, 1.3 , 1.31, 1.32,\n",
       "       1.33, 1.34, 1.35, 1.36, 1.37, 1.38, 1.39, 1.4 , 1.41, 1.42, 1.43,\n",
       "       1.44, 1.45, 1.46, 1.47, 1.48, 1.49, 1.5 , 1.51, 1.52, 1.53, 1.54,\n",
       "       1.55, 1.56, 1.57, 1.58, 1.59, 1.6 , 1.61, 1.62, 1.63, 1.64, 1.65,\n",
       "       1.66, 1.67, 1.68, 1.69, 1.7 , 1.71, 1.72, 1.73, 1.74, 1.75, 1.76,\n",
       "       1.77, 1.78, 1.79, 1.8 , 1.81, 1.82, 1.83, 1.84, 1.85, 1.86, 1.87,\n",
       "       1.88, 1.89, 1.9 , 1.91, 1.92, 1.93, 1.94, 1.95, 1.96, 1.97, 1.98,\n",
       "       1.99, 2.  ])"
      ]
     },
     "execution_count": 13,
     "metadata": {},
     "output_type": "execute_result"
    }
   ],
   "source": [
    "Rp1 = Rp[Rp>=1]\n",
    "\n",
    "Rp1"
   ]
  },
  {
   "cell_type": "code",
   "execution_count": 14,
   "id": "97bd1617",
   "metadata": {},
   "outputs": [
    {
     "data": {
      "text/plain": [
       "array([0.  , 0.01, 0.02, 0.03, 0.04, 0.05, 0.06, 0.07, 0.08, 0.09, 0.1 ,\n",
       "       0.11, 0.12, 0.13, 0.14, 0.15, 0.16, 0.17, 0.18, 0.19, 0.2 , 0.21,\n",
       "       0.22, 0.23, 0.24, 0.25, 0.26, 0.27, 0.28, 0.29, 0.3 , 0.31, 0.32,\n",
       "       0.33, 0.34, 0.35, 0.36, 0.37, 0.38, 0.39, 0.4 , 0.41, 0.42, 0.43,\n",
       "       0.44, 0.45, 0.46, 0.47, 0.48, 0.49, 0.5 , 0.51, 0.52, 0.53, 0.54,\n",
       "       0.55, 0.56, 0.57, 0.58, 0.59, 0.6 , 0.61, 0.62, 0.63, 0.64, 0.65,\n",
       "       0.66, 0.67, 0.68, 0.69, 0.7 , 0.71, 0.72, 0.73, 0.74, 0.75, 0.76,\n",
       "       0.77, 0.78, 0.79, 0.8 , 0.81, 0.82, 0.83, 0.84, 0.85, 0.86, 0.87,\n",
       "       0.88, 0.89, 0.9 , 0.91, 0.92, 0.93, 0.94, 0.95, 0.96, 0.97, 0.98,\n",
       "       0.99, 1.  ])"
      ]
     },
     "execution_count": 14,
     "metadata": {},
     "output_type": "execute_result"
    }
   ],
   "source": [
    "Rp2 = Rp[Rp<=1]\n",
    "\n",
    "Rp2"
   ]
  },
  {
   "cell_type": "code",
   "execution_count": 15,
   "id": "edaf387e",
   "metadata": {},
   "outputs": [
    {
     "data": {
      "text/plain": [
       "array([2.69795476, 2.69801592, 2.69871706, 2.70005767, 2.7020368 ,\n",
       "       2.70465304, 2.70790455, 2.71178905, 2.71630382, 2.72144571,\n",
       "       2.7272112 , 2.73359632, 2.74059676, 2.74820779, 2.75642438,\n",
       "       2.76524112, 2.77465229, 2.78465186, 2.79523352, 2.80639068,\n",
       "       2.81811651, 2.83040394, 2.84324569, 2.85663428, 2.87056206,\n",
       "       2.88502123, 2.90000383, 2.9155018 , 2.93150696, 2.94801105,\n",
       "       2.96500574, 2.98248264, 3.00043333, 3.01884935, 3.03772224,\n",
       "       3.05704354, 3.07680481, 3.09699761, 3.11761357, 3.13864435,\n",
       "       3.16008166, 3.18191728, 3.20414309, 3.226751  , 3.24973305,\n",
       "       3.27308136, 3.29678814, 3.32084572, 3.34524653, 3.36998311,\n",
       "       3.39504812, 3.42043435, 3.4461347 , 3.47214218, 3.49844995,\n",
       "       3.52505129, 3.5519396 , 3.57910842, 3.60655139, 3.63426233,\n",
       "       3.66223513, 3.69046384, 3.71894265, 3.74766584, 3.77662785,\n",
       "       3.80582321, 3.8352466 , 3.86489282, 3.89475676, 3.92483347,\n",
       "       3.9551181 , 3.98560589, 4.01629222, 4.04717258, 4.07824256,\n",
       "       4.10949786, 4.14093428, 4.17254773, 4.20433422, 4.23628984,\n",
       "       4.26841081, 4.30069341, 4.33313404, 4.36572917, 4.39847536,\n",
       "       4.43136928, 4.46440764, 4.49758728, 4.53090508, 4.56435801,\n",
       "       4.59794314, 4.63165759, 4.66549854, 4.69946328, 4.73354913,\n",
       "       4.76775349, 4.80207384, 4.8365077 , 4.87105267, 4.90570639,\n",
       "       4.94046659])"
      ]
     },
     "execution_count": 15,
     "metadata": {},
     "output_type": "execute_result"
    }
   ],
   "source": [
    "min_σ_1 = ((1/δ) + (δ*(Rp1 - Rmv)**2)/(ζ*δ-α**2))**0.5\n",
    "\n",
    "min_σ_1"
   ]
  },
  {
   "cell_type": "code",
   "execution_count": 16,
   "id": "e0ce94e0",
   "metadata": {},
   "outputs": [
    {
     "data": {
      "text/plain": [
       "array([4.96865933, 4.93381464, 4.89907462, 4.8644415 , 4.82991758,\n",
       "       4.79550523, 4.76120686, 4.72702495, 4.69296205, 4.65902076,\n",
       "       4.62520378, 4.59151383, 4.55795374, 4.5245264 , 4.49123477,\n",
       "       4.4580819 , 4.42507089, 4.39220496, 4.35948738, 4.32692151,\n",
       "       4.29451081, 4.26225882, 4.23016916, 4.19824557, 4.16649185,\n",
       "       4.13491193, 4.10350981, 4.0722896 , 4.04125553, 4.01041191,\n",
       "       3.97976317, 3.94931385, 3.9190686 , 3.88903217, 3.85920946,\n",
       "       3.82960543, 3.80022522, 3.77107404, 3.74215726, 3.71348034,\n",
       "       3.68504889, 3.65686863, 3.62894542, 3.60128523, 3.57389417,\n",
       "       3.54677848, 3.51994451, 3.49339877, 3.46714787, 3.44119855,\n",
       "       3.41555771, 3.39023232, 3.36522952, 3.34055654, 3.31622076,\n",
       "       3.29222964, 3.26859078, 3.24531187, 3.22240071, 3.19986521,\n",
       "       3.17771336, 3.15595323, 3.13459299, 3.11364085, 3.09310513,\n",
       "       3.07299416, 3.05331633, 3.03408008, 3.01529386, 2.99696612,\n",
       "       2.97910534, 2.96171996, 2.94481839, 2.92840902, 2.91250017,\n",
       "       2.89710007, 2.8822169 , 2.86785868, 2.85403336, 2.8407487 ,\n",
       "       2.82801233, 2.81583168, 2.804214  , 2.79316632, 2.78269542,\n",
       "       2.77280783, 2.76350982, 2.75480736, 2.7467061 , 2.73921139,\n",
       "       2.73232821, 2.7260612 , 2.72041461, 2.71539231, 2.71099778,\n",
       "       2.70723407, 2.70410382, 2.70160922, 2.69975204, 2.6985336 ,\n",
       "       2.69795476])"
      ]
     },
     "execution_count": 16,
     "metadata": {},
     "output_type": "execute_result"
    }
   ],
   "source": [
    "min_σ_2 = ((1/δ) + (δ*(Rp2 - Rmv)**2)/(ζ*δ-α**2))**0.5\n",
    "\n",
    "min_σ_2"
   ]
  },
  {
   "cell_type": "code",
   "execution_count": 17,
   "id": "d748a5cd",
   "metadata": {},
   "outputs": [
    {
     "data": {
      "text/plain": [
       "<matplotlib.legend.Legend at 0x7fe7338d2bb0>"
      ]
     },
     "execution_count": 17,
     "metadata": {},
     "output_type": "execute_result"
    },
    {
     "data": {
      "image/png": "[encoded data removed]",
      "text/plain": [
       "<Figure size 1080x432 with 1 Axes>"
      ]
     },
     "metadata": {
      "needs_background": "light"
     },
     "output_type": "display_data"
    }
   ],
   "source": [
    "plt.figure(figsize = (15,6))\n",
    "\n",
    "plt.xlabel('Standard Deviation Of The Portfolio', fontsize = 14)\n",
    "\n",
    "plt.ylabel('Expected Return Of The Portfolio', fontsize = 14)\n",
    "\n",
    "plt.title('Efficient Frontier', fontsize = 20)\n",
    "\n",
    "plt.plot(min_σ_1,Rp1,color = 'k', label = 'Efficient Frontier')\n",
    "\n",
    "plt.plot(min_σ_2, Rp2, color = 'r')\n",
    "\n",
    "plt.legend()"
   ]
  },
  {
   "cell_type": "markdown",
   "id": "fdfa8aad",
   "metadata": {},
   "source": [
    "# Briefly explain the economic significance and relevance of the minimum-variance frontier to an investor."
   ]
  },
  {
   "cell_type": "markdown",
   "id": "271d38e0",
   "metadata": {},
   "source": [
    "#### the minimum variance frontier gives an investor the portfolio with same expected return and lowest standard deviation of the portfolio, which is also known as risk. "
   ]
  },
  {
   "cell_type": "code",
   "execution_count": 18,
   "id": "eaf8b85e",
   "metadata": {},
   "outputs": [],
   "source": [
    "Rf = 0.13"
   ]
  },
  {
   "cell_type": "code",
   "execution_count": 19,
   "id": "88161c69",
   "metadata": {},
   "outputs": [
    {
     "data": {
      "text/plain": [
       "array([0.32212855, 0.29734943, 0.27257031, 0.24779119, 0.22301207,\n",
       "       0.19823295, 0.17345383, 0.14867471, 0.12389559, 0.09911648,\n",
       "       0.07433736, 0.04955824, 0.02477912, 0.        , 0.02477912,\n",
       "       0.04955824, 0.07433736, 0.09911648, 0.12389559, 0.14867471,\n",
       "       0.17345383, 0.19823295, 0.22301207, 0.24779119, 0.27257031,\n",
       "       0.29734943, 0.32212855, 0.34690767, 0.37168678, 0.3964659 ,\n",
       "       0.42124502, 0.44602414, 0.47080326, 0.49558238, 0.5203615 ,\n",
       "       0.54514062, 0.56991974, 0.59469886, 0.61947797, 0.64425709,\n",
       "       0.66903621, 0.69381533, 0.71859445, 0.74337357, 0.76815269,\n",
       "       0.79293181, 0.81771093, 0.84249005, 0.86726916, 0.89204828,\n",
       "       0.9168274 , 0.94160652, 0.96638564, 0.99116476, 1.01594388,\n",
       "       1.040723  , 1.06550212, 1.09028123, 1.11506035, 1.13983947,\n",
       "       1.16461859, 1.18939771, 1.21417683, 1.23895595, 1.26373507,\n",
       "       1.28851419, 1.31329331, 1.33807242, 1.36285154, 1.38763066,\n",
       "       1.41240978, 1.4371889 , 1.46196802, 1.48674714, 1.51152626,\n",
       "       1.53630538, 1.5610845 , 1.58586361, 1.61064273, 1.63542185,\n",
       "       1.66020097, 1.68498009, 1.70975921, 1.73453833, 1.75931745,\n",
       "       1.78409657, 1.80887569, 1.8336548 , 1.85843392, 1.88321304,\n",
       "       1.90799216, 1.93277128, 1.9575504 , 1.98232952, 2.00710864,\n",
       "       2.03188776, 2.05666687, 2.08144599, 2.10622511, 2.13100423,\n",
       "       2.15578335, 2.18056247, 2.20534159, 2.23012071, 2.25489983,\n",
       "       2.27967895, 2.30445806, 2.32923718, 2.3540163 , 2.37879542,\n",
       "       2.40357454, 2.42835366, 2.45313278, 2.4779119 , 2.50269102,\n",
       "       2.52747014, 2.55224925, 2.57702837, 2.60180749, 2.62658661,\n",
       "       2.65136573, 2.67614485, 2.70092397, 2.72570309, 2.75048221,\n",
       "       2.77526133, 2.80004044, 2.82481956, 2.84959868, 2.8743778 ,\n",
       "       2.89915692, 2.92393604, 2.94871516, 2.97349428, 2.9982734 ,\n",
       "       3.02305251, 3.04783163, 3.07261075, 3.09738987, 3.12216899,\n",
       "       3.14694811, 3.17172723, 3.19650635, 3.22128547, 3.24606459,\n",
       "       3.2708437 , 3.29562282, 3.32040194, 3.34518106, 3.36996018,\n",
       "       3.3947393 , 3.41951842, 3.44429754, 3.46907666, 3.49385578,\n",
       "       3.51863489, 3.54341401, 3.56819313, 3.59297225, 3.61775137,\n",
       "       3.64253049, 3.66730961, 3.69208873, 3.71686785, 3.74164697,\n",
       "       3.76642608, 3.7912052 , 3.81598432, 3.84076344, 3.86554256,\n",
       "       3.89032168, 3.9151008 , 3.93987992, 3.96465904, 3.98943815,\n",
       "       4.01421727, 4.03899639, 4.06377551, 4.08855463, 4.11333375,\n",
       "       4.13811287, 4.16289199, 4.18767111, 4.21245023, 4.23722934,\n",
       "       4.26200846, 4.28678758, 4.3115667 , 4.33634582, 4.36112494,\n",
       "       4.38590406, 4.41068318, 4.4354623 , 4.46024142, 4.48502053,\n",
       "       4.50979965, 4.53457877, 4.55935789, 4.58413701, 4.60891613,\n",
       "       4.63369525])"
      ]
     },
     "execution_count": 19,
     "metadata": {},
     "output_type": "execute_result"
    }
   ],
   "source": [
    "min_σ_3 = ((Rp - Rf)**2 / (ζ - 2*α*Rf+δ*Rf**2))**0.5\n",
    "min_σ_3"
   ]
  },
  {
   "cell_type": "code",
   "execution_count": 20,
   "id": "72f932ba",
   "metadata": {},
   "outputs": [],
   "source": [
    "Rp = Rf + ((ζ - 2*α*Rf+δ*Rf**2)**0.5)*min_σ_3"
   ]
  },
  {
   "cell_type": "code",
   "execution_count": 21,
   "id": "4f64d7ac",
   "metadata": {},
   "outputs": [
    {
     "data": {
      "text/plain": [
       "<matplotlib.legend.Legend at 0x7fe733bfbd30>"
      ]
     },
     "execution_count": 21,
     "metadata": {},
     "output_type": "execute_result"
    },
    {
     "data": {
      "image/png": "[encoded data removed]",
      "text/plain": [
       "<Figure size 1080x432 with 1 Axes>"
      ]
     },
     "metadata": {
      "needs_background": "light"
     },
     "output_type": "display_data"
    }
   ],
   "source": [
    "plt.figure(figsize = (15,6))\n",
    "\n",
    "plt.xlabel('Standard Deviation Of The Portfolio', fontsize = 14)\n",
    "\n",
    "plt.ylabel('Expected Return Of The Portfolio', fontsize = 14)\n",
    "\n",
    "plt.title('Efficient Frontier', fontsize = 20)\n",
    "\n",
    "plt.plot(min_σ_1,Rp1,color = 'k', label = 'Efficient Frontier')\n",
    "\n",
    "plt.plot(min_σ_2, Rp2, color = 'r')\n",
    "\n",
    "plt.plot(min_σ_3, Rp, color = 'g', label = 'Efficient Frontier with Riskless Asset')\n",
    "\n",
    "plt.legend()"
   ]
  },
  {
   "cell_type": "code",
   "execution_count": 22,
   "id": "f496c754",
   "metadata": {},
   "outputs": [
    {
     "data": {
      "text/plain": [
       "0.40356559934950925"
      ]
     },
     "execution_count": 22,
     "metadata": {},
     "output_type": "execute_result"
    }
   ],
   "source": [
    "sharp_ratio = (ζ -2*α*Rf+δ*Rf**2)**0.5\n",
    "\n",
    "sharp_ratio"
   ]
  },
  {
   "cell_type": "code",
   "execution_count": 23,
   "id": "bac46d67",
   "metadata": {},
   "outputs": [
    {
     "data": {
      "text/plain": [
       "1.4862735358446901"
      ]
     },
     "execution_count": 23,
     "metadata": {},
     "output_type": "execute_result"
    }
   ],
   "source": [
    "Rtg = (α*Rf - ζ) / (δ*Rf - α)\n",
    "Rtg"
   ]
  },
  {
   "cell_type": "code",
   "execution_count": 24,
   "id": "bb399b8d",
   "metadata": {},
   "outputs": [
    {
     "data": {
      "text/plain": [
       "8.32758375833663"
      ]
     },
     "execution_count": 24,
     "metadata": {},
     "output_type": "execute_result"
    }
   ],
   "source": [
    "λ = (Rtg - Rf)/ (ζ - 2*α*Rf +δ*Rf**2 )\n",
    "\n",
    "λ"
   ]
  },
  {
   "cell_type": "code",
   "execution_count": 25,
   "id": "b7d3e725",
   "metadata": {},
   "outputs": [],
   "source": [
    "W_tangency_portfolio = λ * V_inv @ (R - Rf*e)"
   ]
  },
  {
   "cell_type": "code",
   "execution_count": 26,
   "id": "16ca5ffa",
   "metadata": {},
   "outputs": [
    {
     "data": {
      "text/plain": [
       "array([[ 0.56797218],\n",
       "       [-0.2140726 ],\n",
       "       [ 0.71410511],\n",
       "       [ 0.10408719],\n",
       "       [-0.36343817],\n",
       "       [-0.09546326],\n",
       "       [ 0.99164683],\n",
       "       [ 0.0755702 ],\n",
       "       [ 0.13264333],\n",
       "       [-0.91305081]])"
      ]
     },
     "execution_count": 26,
     "metadata": {},
     "output_type": "execute_result"
    }
   ],
   "source": [
    "W_tangency_portfolio"
   ]
  },
  {
   "cell_type": "code",
   "execution_count": null,
   "id": "176534af",
   "metadata": {},
   "outputs": [],
   "source": []
  }
 ],
 "metadata": {
  "kernelspec": {
   "display_name": "Python 3 (ipykernel)",
   "language": "python",
   "name": "python3"
  },
  "language_info": {
   "codemirror_mode": {
    "name": "ipython",
    "version": 3
   },
   "file_extension": ".py",
   "mimetype": "text/x-python",
   "name": "python",
   "nbconvert_exporter": "python",
   "pygments_lexer": "ipython3",
   "version": "3.8.15"
  }
 },
 "nbformat": 4,
 "nbformat_minor": 5
}
